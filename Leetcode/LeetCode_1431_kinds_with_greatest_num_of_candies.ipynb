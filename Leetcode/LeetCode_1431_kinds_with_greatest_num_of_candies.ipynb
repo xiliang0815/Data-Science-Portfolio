{
 "cells": [
  {
   "cell_type": "markdown",
   "metadata": {},
   "source": [
    "### 1431. Kids With the Greatest Number of Candies\n",
    "\n",
    "Given the array `candies` and the integer `extraCandies`, where `candies[i]` represents the number of candies that the ith kid has.\n",
    "\n",
    "For each kid check if there is a way to distribute `extraCandies` among the kids such that he or she can have the greatest number of candies among them. Notice that multiple kids can have the **greatest** number of candies.\n",
    "\n",
    "#### Example 1:\n",
    "Input: candies = [2,3,5,1,3], extraCandies = 3\n",
    "Output: [true,true,true,false,true] \n",
    "Explanation: \n",
    "Kid 1 has 2 candies and if he or she receives all extra candies (3) will have 5 candies --- the greatest number of candies among the kids. \n",
    "Kid 2 has 3 candies and if he or she receives at least 2 extra candies will have the greatest number of candies among the kids. \n",
    "Kid 3 has 5 candies and this is already the greatest number of candies among the kids. \n",
    "Kid 4 has 1 candy and even if he or she receives all extra candies will only have 4 candies. \n",
    "Kid 5 has 3 candies and if he or she receives at least 2 extra candies will have the greatest number of candies among the kids. "
   ]
  },
  {
   "cell_type": "code",
   "execution_count": 31,
   "metadata": {},
   "outputs": [
    {
     "name": "stdout",
     "output_type": "stream",
     "text": [
      "[False, True, True, False, True]\n"
     ]
    }
   ],
   "source": [
    "#input\n",
    "candies = [2,3,5,1,3]\n",
    "extraCandies = 3\n",
    "\n",
    "\n",
    "def kidsWithCandies(candies, extraCandies):\n",
    "    candies_unsort = candies.copy()\n",
    "    candies.sort()\n",
    "    max_person = candies[-1]\n",
    "    \n",
    "    retu[True if (i-max_person)+extraCandies>0 else False for i in candies_unsort]) \n",
    "    \n",
    "    \n",
    "kidsWithCandies(candies, extraCandies)"
   ]
  },
  {
   "cell_type": "code",
   "execution_count": null,
   "metadata": {},
   "outputs": [],
   "source": []
  }
 ],
 "metadata": {
  "kernelspec": {
   "display_name": "Python 3",
   "language": "python",
   "name": "python3"
  },
  "language_info": {
   "codemirror_mode": {
    "name": "ipython",
    "version": 3
   },
   "file_extension": ".py",
   "mimetype": "text/x-python",
   "name": "python",
   "nbconvert_exporter": "python",
   "pygments_lexer": "ipython3",
   "version": "3.7.4"
  }
 },
 "nbformat": 4,
 "nbformat_minor": 4
}
