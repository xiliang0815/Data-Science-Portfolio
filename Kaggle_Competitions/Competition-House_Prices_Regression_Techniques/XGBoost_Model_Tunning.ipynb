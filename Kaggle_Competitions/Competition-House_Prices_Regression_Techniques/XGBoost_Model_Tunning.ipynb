{
 "cells": [
  {
   "cell_type": "code",
   "execution_count": 327,
   "metadata": {},
   "outputs": [],
   "source": [
    "import pandas as pd\n",
    "import numpy as np\n",
    "\n",
    "#ploting\n",
    "import matplotlib.pyplot as plt\n",
    "import seaborn as sns\n",
    "sns.set()\n",
    "%matplotlib inline\n",
    "\n",
    "from statistics import mode\n",
    "\n",
    "from sklearn.feature_extraction import DictVectorizer\n",
    "from sklearn.preprocessing import StandardScaler\n",
    "from sklearn.model_selection import RandomizedSearchCV\n",
    "\n",
    "#modeling\n",
    "import xgboost as xgb"
   ]
  },
  {
   "cell_type": "code",
   "execution_count": 396,
   "metadata": {},
   "outputs": [],
   "source": [
    "train = pd.read_csv('data/train.csv')\n",
    "test = pd.read_csv('data/test.csv')\n",
    "\n",
    "#drop outliers\n",
    "train = train.drop(train[(train['GrLivArea']>4000) & (train['SalePrice']<300000)].index)\n",
    "\n",
    "train_y = np.log1p(train['SalePrice'])\n",
    "train.drop(['SalePrice'], axis=1, inplace=True)\n",
    "\n",
    "train.drop(['Id'], axis=1, inplace=True)\n",
    "\n",
    "\n",
    "\n",
    "test_id = test['Id']\n",
    "test.drop(['Id'], axis=1, inplace=True)\n",
    "\n",
    "df = pd.concat([train, test], axis= 0)"
   ]
  },
  {
   "cell_type": "code",
   "execution_count": 397,
   "metadata": {},
   "outputs": [
    {
     "data": {
      "text/plain": [
       "(2917, 79)"
      ]
     },
     "execution_count": 397,
     "metadata": {},
     "output_type": "execute_result"
    }
   ],
   "source": [
    "#data dimension\n",
    "df.shape"
   ]
  },
  {
   "cell_type": "code",
   "execution_count": 398,
   "metadata": {},
   "outputs": [
    {
     "data": {
      "text/html": [
       "<div>\n",
       "<style scoped>\n",
       "    .dataframe tbody tr th:only-of-type {\n",
       "        vertical-align: middle;\n",
       "    }\n",
       "\n",
       "    .dataframe tbody tr th {\n",
       "        vertical-align: top;\n",
       "    }\n",
       "\n",
       "    .dataframe thead th {\n",
       "        text-align: right;\n",
       "    }\n",
       "</style>\n",
       "<table border=\"1\" class=\"dataframe\">\n",
       "  <thead>\n",
       "    <tr style=\"text-align: right;\">\n",
       "      <th></th>\n",
       "      <th>index</th>\n",
       "      <th>0</th>\n",
       "    </tr>\n",
       "  </thead>\n",
       "  <tbody>\n",
       "    <tr>\n",
       "      <th>71</th>\n",
       "      <td>PoolQC</td>\n",
       "      <td>2908</td>\n",
       "    </tr>\n",
       "    <tr>\n",
       "      <th>73</th>\n",
       "      <td>MiscFeature</td>\n",
       "      <td>2812</td>\n",
       "    </tr>\n",
       "    <tr>\n",
       "      <th>5</th>\n",
       "      <td>Alley</td>\n",
       "      <td>2719</td>\n",
       "    </tr>\n",
       "    <tr>\n",
       "      <th>72</th>\n",
       "      <td>Fence</td>\n",
       "      <td>2346</td>\n",
       "    </tr>\n",
       "    <tr>\n",
       "      <th>56</th>\n",
       "      <td>FireplaceQu</td>\n",
       "      <td>1420</td>\n",
       "    </tr>\n",
       "    <tr>\n",
       "      <th>2</th>\n",
       "      <td>LotFrontage</td>\n",
       "      <td>486</td>\n",
       "    </tr>\n",
       "    <tr>\n",
       "      <th>58</th>\n",
       "      <td>GarageYrBlt</td>\n",
       "      <td>159</td>\n",
       "    </tr>\n",
       "    <tr>\n",
       "      <th>59</th>\n",
       "      <td>GarageFinish</td>\n",
       "      <td>159</td>\n",
       "    </tr>\n",
       "    <tr>\n",
       "      <th>62</th>\n",
       "      <td>GarageQual</td>\n",
       "      <td>159</td>\n",
       "    </tr>\n",
       "    <tr>\n",
       "      <th>63</th>\n",
       "      <td>GarageCond</td>\n",
       "      <td>159</td>\n",
       "    </tr>\n",
       "    <tr>\n",
       "      <th>57</th>\n",
       "      <td>GarageType</td>\n",
       "      <td>157</td>\n",
       "    </tr>\n",
       "    <tr>\n",
       "      <th>31</th>\n",
       "      <td>BsmtExposure</td>\n",
       "      <td>82</td>\n",
       "    </tr>\n",
       "    <tr>\n",
       "      <th>30</th>\n",
       "      <td>BsmtCond</td>\n",
       "      <td>82</td>\n",
       "    </tr>\n",
       "    <tr>\n",
       "      <th>29</th>\n",
       "      <td>BsmtQual</td>\n",
       "      <td>81</td>\n",
       "    </tr>\n",
       "    <tr>\n",
       "      <th>34</th>\n",
       "      <td>BsmtFinType2</td>\n",
       "      <td>80</td>\n",
       "    </tr>\n",
       "    <tr>\n",
       "      <th>32</th>\n",
       "      <td>BsmtFinType1</td>\n",
       "      <td>79</td>\n",
       "    </tr>\n",
       "    <tr>\n",
       "      <th>24</th>\n",
       "      <td>MasVnrType</td>\n",
       "      <td>24</td>\n",
       "    </tr>\n",
       "    <tr>\n",
       "      <th>25</th>\n",
       "      <td>MasVnrArea</td>\n",
       "      <td>23</td>\n",
       "    </tr>\n",
       "    <tr>\n",
       "      <th>1</th>\n",
       "      <td>MSZoning</td>\n",
       "      <td>4</td>\n",
       "    </tr>\n",
       "    <tr>\n",
       "      <th>54</th>\n",
       "      <td>Functional</td>\n",
       "      <td>2</td>\n",
       "    </tr>\n",
       "    <tr>\n",
       "      <th>47</th>\n",
       "      <td>BsmtHalfBath</td>\n",
       "      <td>2</td>\n",
       "    </tr>\n",
       "    <tr>\n",
       "      <th>46</th>\n",
       "      <td>BsmtFullBath</td>\n",
       "      <td>2</td>\n",
       "    </tr>\n",
       "    <tr>\n",
       "      <th>8</th>\n",
       "      <td>Utilities</td>\n",
       "      <td>2</td>\n",
       "    </tr>\n",
       "    <tr>\n",
       "      <th>77</th>\n",
       "      <td>SaleType</td>\n",
       "      <td>1</td>\n",
       "    </tr>\n",
       "    <tr>\n",
       "      <th>33</th>\n",
       "      <td>BsmtFinSF1</td>\n",
       "      <td>1</td>\n",
       "    </tr>\n",
       "    <tr>\n",
       "      <th>52</th>\n",
       "      <td>KitchenQual</td>\n",
       "      <td>1</td>\n",
       "    </tr>\n",
       "    <tr>\n",
       "      <th>60</th>\n",
       "      <td>GarageCars</td>\n",
       "      <td>1</td>\n",
       "    </tr>\n",
       "    <tr>\n",
       "      <th>36</th>\n",
       "      <td>BsmtUnfSF</td>\n",
       "      <td>1</td>\n",
       "    </tr>\n",
       "    <tr>\n",
       "      <th>37</th>\n",
       "      <td>TotalBsmtSF</td>\n",
       "      <td>1</td>\n",
       "    </tr>\n",
       "    <tr>\n",
       "      <th>23</th>\n",
       "      <td>Exterior2nd</td>\n",
       "      <td>1</td>\n",
       "    </tr>\n",
       "    <tr>\n",
       "      <th>22</th>\n",
       "      <td>Exterior1st</td>\n",
       "      <td>1</td>\n",
       "    </tr>\n",
       "    <tr>\n",
       "      <th>61</th>\n",
       "      <td>GarageArea</td>\n",
       "      <td>1</td>\n",
       "    </tr>\n",
       "    <tr>\n",
       "      <th>41</th>\n",
       "      <td>Electrical</td>\n",
       "      <td>1</td>\n",
       "    </tr>\n",
       "    <tr>\n",
       "      <th>35</th>\n",
       "      <td>BsmtFinSF2</td>\n",
       "      <td>1</td>\n",
       "    </tr>\n",
       "  </tbody>\n",
       "</table>\n",
       "</div>"
      ],
      "text/plain": [
       "           index     0\n",
       "71        PoolQC  2908\n",
       "73   MiscFeature  2812\n",
       "5          Alley  2719\n",
       "72         Fence  2346\n",
       "56   FireplaceQu  1420\n",
       "2    LotFrontage   486\n",
       "58   GarageYrBlt   159\n",
       "59  GarageFinish   159\n",
       "62    GarageQual   159\n",
       "63    GarageCond   159\n",
       "57    GarageType   157\n",
       "31  BsmtExposure    82\n",
       "30      BsmtCond    82\n",
       "29      BsmtQual    81\n",
       "34  BsmtFinType2    80\n",
       "32  BsmtFinType1    79\n",
       "24    MasVnrType    24\n",
       "25    MasVnrArea    23\n",
       "1       MSZoning     4\n",
       "54    Functional     2\n",
       "47  BsmtHalfBath     2\n",
       "46  BsmtFullBath     2\n",
       "8      Utilities     2\n",
       "77      SaleType     1\n",
       "33    BsmtFinSF1     1\n",
       "52   KitchenQual     1\n",
       "60    GarageCars     1\n",
       "36     BsmtUnfSF     1\n",
       "37   TotalBsmtSF     1\n",
       "23   Exterior2nd     1\n",
       "22   Exterior1st     1\n",
       "61    GarageArea     1\n",
       "41    Electrical     1\n",
       "35    BsmtFinSF2     1"
      ]
     },
     "execution_count": 398,
     "metadata": {},
     "output_type": "execute_result"
    }
   ],
   "source": [
    "#missing values\n",
    "pd.DataFrame(df.isnull().sum()).reset_index().sort_values(by = 0, ascending=False).head(34)"
   ]
  },
  {
   "cell_type": "code",
   "execution_count": 399,
   "metadata": {},
   "outputs": [],
   "source": [
    "#spliting object dataframe and numeric dataframe\n",
    "df_num = df.select_dtypes(exclude= ['object'])\n",
    "df_cat = df.select_dtypes(include=['object']).copy()"
   ]
  },
  {
   "cell_type": "markdown",
   "metadata": {},
   "source": [
    "## Categorical Variables "
   ]
  },
  {
   "cell_type": "code",
   "execution_count": 400,
   "metadata": {},
   "outputs": [
    {
     "data": {
      "text/plain": [
       "(2917, 43)"
      ]
     },
     "execution_count": 400,
     "metadata": {},
     "output_type": "execute_result"
    }
   ],
   "source": [
    "df_cat.shape"
   ]
  },
  {
   "cell_type": "code",
   "execution_count": 401,
   "metadata": {
    "scrolled": false
   },
   "outputs": [],
   "source": [
    "cat_missing = pd.DataFrame(df_cat.isnull().sum()).reset_index().sort_values(by = 0, ascending=False).head(34)"
   ]
  },
  {
   "cell_type": "code",
   "execution_count": 402,
   "metadata": {},
   "outputs": [],
   "source": [
    "cat_missing_index = cat_missing.iloc[:,0]"
   ]
  },
  {
   "cell_type": "code",
   "execution_count": 335,
   "metadata": {},
   "outputs": [],
   "source": [
    "for i in range(len(cat_missing_index)):\n",
    "    if (cat_missing.iloc[:,1].values[i]) > 600:\n",
    "        df_cat[cat_missing_index.values[i]] = df_cat[cat_missing_index.values[i]].fillna('none')\n",
    "    else:\n",
    "        df_cat[cat_missing_index.values[i]][df_cat[cat_missing_index.values[i]].isnull()] = mode(df_cat[cat_missing_index.values[i]])"
   ]
  },
  {
   "cell_type": "markdown",
   "metadata": {},
   "source": [
    "## Numeric Variables"
   ]
  },
  {
   "cell_type": "code",
   "execution_count": 403,
   "metadata": {},
   "outputs": [
    {
     "data": {
      "text/plain": [
       "(2917, 36)"
      ]
     },
     "execution_count": 403,
     "metadata": {},
     "output_type": "execute_result"
    }
   ],
   "source": [
    "df_num.shape"
   ]
  },
  {
   "cell_type": "code",
   "execution_count": 404,
   "metadata": {},
   "outputs": [
    {
     "data": {
      "text/html": [
       "<div>\n",
       "<style scoped>\n",
       "    .dataframe tbody tr th:only-of-type {\n",
       "        vertical-align: middle;\n",
       "    }\n",
       "\n",
       "    .dataframe tbody tr th {\n",
       "        vertical-align: top;\n",
       "    }\n",
       "\n",
       "    .dataframe thead th {\n",
       "        text-align: right;\n",
       "    }\n",
       "</style>\n",
       "<table border=\"1\" class=\"dataframe\">\n",
       "  <thead>\n",
       "    <tr style=\"text-align: right;\">\n",
       "      <th></th>\n",
       "      <th>index</th>\n",
       "      <th>0</th>\n",
       "    </tr>\n",
       "  </thead>\n",
       "  <tbody>\n",
       "    <tr>\n",
       "      <th>1</th>\n",
       "      <td>LotFrontage</td>\n",
       "      <td>486</td>\n",
       "    </tr>\n",
       "    <tr>\n",
       "      <th>24</th>\n",
       "      <td>GarageYrBlt</td>\n",
       "      <td>159</td>\n",
       "    </tr>\n",
       "    <tr>\n",
       "      <th>7</th>\n",
       "      <td>MasVnrArea</td>\n",
       "      <td>23</td>\n",
       "    </tr>\n",
       "    <tr>\n",
       "      <th>17</th>\n",
       "      <td>BsmtHalfBath</td>\n",
       "      <td>2</td>\n",
       "    </tr>\n",
       "    <tr>\n",
       "      <th>16</th>\n",
       "      <td>BsmtFullBath</td>\n",
       "      <td>2</td>\n",
       "    </tr>\n",
       "    <tr>\n",
       "      <th>11</th>\n",
       "      <td>TotalBsmtSF</td>\n",
       "      <td>1</td>\n",
       "    </tr>\n",
       "    <tr>\n",
       "      <th>25</th>\n",
       "      <td>GarageCars</td>\n",
       "      <td>1</td>\n",
       "    </tr>\n",
       "    <tr>\n",
       "      <th>8</th>\n",
       "      <td>BsmtFinSF1</td>\n",
       "      <td>1</td>\n",
       "    </tr>\n",
       "    <tr>\n",
       "      <th>9</th>\n",
       "      <td>BsmtFinSF2</td>\n",
       "      <td>1</td>\n",
       "    </tr>\n",
       "    <tr>\n",
       "      <th>10</th>\n",
       "      <td>BsmtUnfSF</td>\n",
       "      <td>1</td>\n",
       "    </tr>\n",
       "    <tr>\n",
       "      <th>26</th>\n",
       "      <td>GarageArea</td>\n",
       "      <td>1</td>\n",
       "    </tr>\n",
       "    <tr>\n",
       "      <th>28</th>\n",
       "      <td>OpenPorchSF</td>\n",
       "      <td>0</td>\n",
       "    </tr>\n",
       "    <tr>\n",
       "      <th>27</th>\n",
       "      <td>WoodDeckSF</td>\n",
       "      <td>0</td>\n",
       "    </tr>\n",
       "    <tr>\n",
       "      <th>0</th>\n",
       "      <td>MSSubClass</td>\n",
       "      <td>0</td>\n",
       "    </tr>\n",
       "    <tr>\n",
       "      <th>29</th>\n",
       "      <td>EnclosedPorch</td>\n",
       "      <td>0</td>\n",
       "    </tr>\n",
       "    <tr>\n",
       "      <th>22</th>\n",
       "      <td>TotRmsAbvGrd</td>\n",
       "      <td>0</td>\n",
       "    </tr>\n",
       "    <tr>\n",
       "      <th>30</th>\n",
       "      <td>3SsnPorch</td>\n",
       "      <td>0</td>\n",
       "    </tr>\n",
       "    <tr>\n",
       "      <th>31</th>\n",
       "      <td>ScreenPorch</td>\n",
       "      <td>0</td>\n",
       "    </tr>\n",
       "    <tr>\n",
       "      <th>32</th>\n",
       "      <td>PoolArea</td>\n",
       "      <td>0</td>\n",
       "    </tr>\n",
       "    <tr>\n",
       "      <th>33</th>\n",
       "      <td>MiscVal</td>\n",
       "      <td>0</td>\n",
       "    </tr>\n",
       "  </tbody>\n",
       "</table>\n",
       "</div>"
      ],
      "text/plain": [
       "            index    0\n",
       "1     LotFrontage  486\n",
       "24    GarageYrBlt  159\n",
       "7      MasVnrArea   23\n",
       "17   BsmtHalfBath    2\n",
       "16   BsmtFullBath    2\n",
       "11    TotalBsmtSF    1\n",
       "25     GarageCars    1\n",
       "8      BsmtFinSF1    1\n",
       "9      BsmtFinSF2    1\n",
       "10      BsmtUnfSF    1\n",
       "26     GarageArea    1\n",
       "28    OpenPorchSF    0\n",
       "27     WoodDeckSF    0\n",
       "0      MSSubClass    0\n",
       "29  EnclosedPorch    0\n",
       "22   TotRmsAbvGrd    0\n",
       "30      3SsnPorch    0\n",
       "31    ScreenPorch    0\n",
       "32       PoolArea    0\n",
       "33        MiscVal    0"
      ]
     },
     "execution_count": 404,
     "metadata": {},
     "output_type": "execute_result"
    }
   ],
   "source": [
    "pd.DataFrame(df_num.isnull().sum()).reset_index().sort_values(by = 0, ascending=False).head(20)"
   ]
  },
  {
   "cell_type": "code",
   "execution_count": 338,
   "metadata": {},
   "outputs": [
    {
     "data": {
      "text/plain": [
       "<matplotlib.axes._subplots.AxesSubplot at 0x23ddae01e10>"
      ]
     },
     "execution_count": 338,
     "metadata": {},
     "output_type": "execute_result"
    },
    {
     "data": {
      "image/png": "[encoded data removed]",
      "text/plain": [
       "<matplotlib.figure.Figure at 0x23dd95fbd68>"
      ]
     },
     "metadata": {},
     "output_type": "display_data"
    }
   ],
   "source": [
    "sns.distplot(df_num.LotFrontage[~np.isnan(df_num.LotFrontage)])"
   ]
  },
  {
   "cell_type": "code",
   "execution_count": 339,
   "metadata": {},
   "outputs": [
    {
     "ename": "AttributeError",
     "evalue": "'DataFrame' object has no attribute 'SalePrice'",
     "output_type": "error",
     "traceback": [
      "\u001b[1;31m---------------------------------------------------------------------------\u001b[0m",
      "\u001b[1;31mAttributeError\u001b[0m                            Traceback (most recent call last)",
      "\u001b[1;32m<ipython-input-339-333de4db05a3>\u001b[0m in \u001b[0;36m<module>\u001b[1;34m()\u001b[0m\n\u001b[1;32m----> 1\u001b[1;33m \u001b[0msns\u001b[0m\u001b[1;33m.\u001b[0m\u001b[0mdistplot\u001b[0m\u001b[1;33m(\u001b[0m\u001b[0mdf_num\u001b[0m\u001b[1;33m[\u001b[0m\u001b[0mdf_num\u001b[0m\u001b[1;33m.\u001b[0m\u001b[0mLotFrontage\u001b[0m\u001b[1;33m.\u001b[0m\u001b[0misnull\u001b[0m\u001b[1;33m(\u001b[0m\u001b[1;33m)\u001b[0m\u001b[1;33m]\u001b[0m\u001b[1;33m.\u001b[0m\u001b[0mSalePrice\u001b[0m\u001b[1;33m)\u001b[0m\u001b[1;33m\u001b[0m\u001b[0m\n\u001b[0m\u001b[0;32m      2\u001b[0m \u001b[0msns\u001b[0m\u001b[1;33m.\u001b[0m\u001b[0mdistplot\u001b[0m\u001b[1;33m(\u001b[0m\u001b[0mdf_num\u001b[0m\u001b[1;33m[\u001b[0m\u001b[1;33m~\u001b[0m\u001b[0mdf_num\u001b[0m\u001b[1;33m.\u001b[0m\u001b[0mLotFrontage\u001b[0m\u001b[1;33m.\u001b[0m\u001b[0misnull\u001b[0m\u001b[1;33m(\u001b[0m\u001b[1;33m)\u001b[0m\u001b[1;33m]\u001b[0m\u001b[1;33m.\u001b[0m\u001b[0mSalePrice\u001b[0m\u001b[1;33m)\u001b[0m\u001b[1;33m\u001b[0m\u001b[0m\n",
      "\u001b[1;32m~\\Anaconda3\\lib\\site-packages\\pandas\\core\\generic.py\u001b[0m in \u001b[0;36m__getattr__\u001b[1;34m(self, name)\u001b[0m\n\u001b[0;32m   3612\u001b[0m             \u001b[1;32mif\u001b[0m \u001b[0mname\u001b[0m \u001b[1;32min\u001b[0m \u001b[0mself\u001b[0m\u001b[1;33m.\u001b[0m\u001b[0m_info_axis\u001b[0m\u001b[1;33m:\u001b[0m\u001b[1;33m\u001b[0m\u001b[0m\n\u001b[0;32m   3613\u001b[0m                 \u001b[1;32mreturn\u001b[0m \u001b[0mself\u001b[0m\u001b[1;33m[\u001b[0m\u001b[0mname\u001b[0m\u001b[1;33m]\u001b[0m\u001b[1;33m\u001b[0m\u001b[0m\n\u001b[1;32m-> 3614\u001b[1;33m             \u001b[1;32mreturn\u001b[0m \u001b[0mobject\u001b[0m\u001b[1;33m.\u001b[0m\u001b[0m__getattribute__\u001b[0m\u001b[1;33m(\u001b[0m\u001b[0mself\u001b[0m\u001b[1;33m,\u001b[0m \u001b[0mname\u001b[0m\u001b[1;33m)\u001b[0m\u001b[1;33m\u001b[0m\u001b[0m\n\u001b[0m\u001b[0;32m   3615\u001b[0m \u001b[1;33m\u001b[0m\u001b[0m\n\u001b[0;32m   3616\u001b[0m     \u001b[1;32mdef\u001b[0m \u001b[0m__setattr__\u001b[0m\u001b[1;33m(\u001b[0m\u001b[0mself\u001b[0m\u001b[1;33m,\u001b[0m \u001b[0mname\u001b[0m\u001b[1;33m,\u001b[0m \u001b[0mvalue\u001b[0m\u001b[1;33m)\u001b[0m\u001b[1;33m:\u001b[0m\u001b[1;33m\u001b[0m\u001b[0m\n",
      "\u001b[1;31mAttributeError\u001b[0m: 'DataFrame' object has no attribute 'SalePrice'"
     ]
    }
   ],
   "source": [
    "sns.distplot(df_num[df_num.LotFrontage.isnull()].SalePrice)\n",
    "sns.distplot(df_num[~df_num.LotFrontage.isnull()].SalePrice)"
   ]
  },
  {
   "cell_type": "code",
   "execution_count": 340,
   "metadata": {},
   "outputs": [
    {
     "name": "stderr",
     "output_type": "stream",
     "text": [
      "C:\\Users\\Xi\\Anaconda3\\lib\\site-packages\\pandas\\core\\generic.py:3643: SettingWithCopyWarning: \n",
      "A value is trying to be set on a copy of a slice from a DataFrame.\n",
      "Try using .loc[row_indexer,col_indexer] = value instead\n",
      "\n",
      "See the caveats in the documentation: http://pandas.pydata.org/pandas-docs/stable/indexing.html#indexing-view-versus-copy\n",
      "  self[name] = value\n"
     ]
    }
   ],
   "source": [
    "df_num.LotFrontage = df_num.LotFrontage.fillna(0)"
   ]
  },
  {
   "cell_type": "code",
   "execution_count": 341,
   "metadata": {},
   "outputs": [
    {
     "data": {
      "text/plain": [
       "<matplotlib.axes._subplots.AxesSubplot at 0x23dd95f5748>"
      ]
     },
     "execution_count": 341,
     "metadata": {},
     "output_type": "execute_result"
    },
    {
     "data": {
      "image/png": "[encoded data removed]",
      "text/plain": [
       "<matplotlib.figure.Figure at 0x23ddaca8048>"
      ]
     },
     "metadata": {},
     "output_type": "display_data"
    }
   ],
   "source": [
    "sns.distplot(df_num.GarageYrBlt[~np.isnan(df_num.GarageYrBlt)])"
   ]
  },
  {
   "cell_type": "code",
   "execution_count": 171,
   "metadata": {},
   "outputs": [
    {
     "ename": "AttributeError",
     "evalue": "'DataFrame' object has no attribute 'SalePrice'",
     "output_type": "error",
     "traceback": [
      "\u001b[1;31m---------------------------------------------------------------------------\u001b[0m",
      "\u001b[1;31mAttributeError\u001b[0m                            Traceback (most recent call last)",
      "\u001b[1;32m<ipython-input-171-bb5a14d7ec1c>\u001b[0m in \u001b[0;36m<module>\u001b[1;34m()\u001b[0m\n\u001b[1;32m----> 1\u001b[1;33m \u001b[0msns\u001b[0m\u001b[1;33m.\u001b[0m\u001b[0mregplot\u001b[0m\u001b[1;33m(\u001b[0m\u001b[0mx\u001b[0m \u001b[1;33m=\u001b[0m \u001b[0mdf_num\u001b[0m\u001b[1;33m.\u001b[0m\u001b[0mGarageYrBlt\u001b[0m\u001b[1;33m[\u001b[0m\u001b[1;33m~\u001b[0m\u001b[0mnp\u001b[0m\u001b[1;33m.\u001b[0m\u001b[0misnan\u001b[0m\u001b[1;33m(\u001b[0m\u001b[0mdf_num\u001b[0m\u001b[1;33m.\u001b[0m\u001b[0mGarageYrBlt\u001b[0m\u001b[1;33m)\u001b[0m\u001b[1;33m]\u001b[0m\u001b[1;33m,\u001b[0m \u001b[0my\u001b[0m \u001b[1;33m=\u001b[0m \u001b[0mdf_num\u001b[0m\u001b[1;33m.\u001b[0m\u001b[0mSalePrice\u001b[0m\u001b[1;33m[\u001b[0m\u001b[1;33m~\u001b[0m\u001b[0mnp\u001b[0m\u001b[1;33m.\u001b[0m\u001b[0misnan\u001b[0m\u001b[1;33m(\u001b[0m\u001b[0mdf_num\u001b[0m\u001b[1;33m.\u001b[0m\u001b[0mGarageYrBlt\u001b[0m\u001b[1;33m)\u001b[0m\u001b[1;33m]\u001b[0m\u001b[1;33m)\u001b[0m\u001b[1;33m\u001b[0m\u001b[0m\n\u001b[0m",
      "\u001b[1;32m~\\Anaconda3\\lib\\site-packages\\pandas\\core\\generic.py\u001b[0m in \u001b[0;36m__getattr__\u001b[1;34m(self, name)\u001b[0m\n\u001b[0;32m   3612\u001b[0m             \u001b[1;32mif\u001b[0m \u001b[0mname\u001b[0m \u001b[1;32min\u001b[0m \u001b[0mself\u001b[0m\u001b[1;33m.\u001b[0m\u001b[0m_info_axis\u001b[0m\u001b[1;33m:\u001b[0m\u001b[1;33m\u001b[0m\u001b[0m\n\u001b[0;32m   3613\u001b[0m                 \u001b[1;32mreturn\u001b[0m \u001b[0mself\u001b[0m\u001b[1;33m[\u001b[0m\u001b[0mname\u001b[0m\u001b[1;33m]\u001b[0m\u001b[1;33m\u001b[0m\u001b[0m\n\u001b[1;32m-> 3614\u001b[1;33m             \u001b[1;32mreturn\u001b[0m \u001b[0mobject\u001b[0m\u001b[1;33m.\u001b[0m\u001b[0m__getattribute__\u001b[0m\u001b[1;33m(\u001b[0m\u001b[0mself\u001b[0m\u001b[1;33m,\u001b[0m \u001b[0mname\u001b[0m\u001b[1;33m)\u001b[0m\u001b[1;33m\u001b[0m\u001b[0m\n\u001b[0m\u001b[0;32m   3615\u001b[0m \u001b[1;33m\u001b[0m\u001b[0m\n\u001b[0;32m   3616\u001b[0m     \u001b[1;32mdef\u001b[0m \u001b[0m__setattr__\u001b[0m\u001b[1;33m(\u001b[0m\u001b[0mself\u001b[0m\u001b[1;33m,\u001b[0m \u001b[0mname\u001b[0m\u001b[1;33m,\u001b[0m \u001b[0mvalue\u001b[0m\u001b[1;33m)\u001b[0m\u001b[1;33m:\u001b[0m\u001b[1;33m\u001b[0m\u001b[0m\n",
      "\u001b[1;31mAttributeError\u001b[0m: 'DataFrame' object has no attribute 'SalePrice'"
     ]
    }
   ],
   "source": [
    "sns.regplot(x = df_num.GarageYrBlt[~np.isnan(df_num.GarageYrBlt)], y = df_num.SalePrice[~np.isnan(df_num.GarageYrBlt)])"
   ]
  },
  {
   "cell_type": "code",
   "execution_count": 220,
   "metadata": {},
   "outputs": [
    {
     "ename": "AttributeError",
     "evalue": "'DataFrame' object has no attribute 'SalePrice'",
     "output_type": "error",
     "traceback": [
      "\u001b[1;31m---------------------------------------------------------------------------\u001b[0m",
      "\u001b[1;31mAttributeError\u001b[0m                            Traceback (most recent call last)",
      "\u001b[1;32m<ipython-input-220-91917f9eff83>\u001b[0m in \u001b[0;36m<module>\u001b[1;34m()\u001b[0m\n\u001b[1;32m----> 1\u001b[1;33m \u001b[0msns\u001b[0m\u001b[1;33m.\u001b[0m\u001b[0mdistplot\u001b[0m\u001b[1;33m(\u001b[0m\u001b[0mdf_num\u001b[0m\u001b[1;33m.\u001b[0m\u001b[0mSalePrice\u001b[0m\u001b[1;33m[\u001b[0m\u001b[1;33m~\u001b[0m\u001b[0mnp\u001b[0m\u001b[1;33m.\u001b[0m\u001b[0misnan\u001b[0m\u001b[1;33m(\u001b[0m\u001b[0mdf_num\u001b[0m\u001b[1;33m.\u001b[0m\u001b[0mGarageYrBlt\u001b[0m\u001b[1;33m)\u001b[0m\u001b[1;33m]\u001b[0m\u001b[1;33m)\u001b[0m\u001b[1;33m\u001b[0m\u001b[0m\n\u001b[0m\u001b[0;32m      2\u001b[0m \u001b[0msns\u001b[0m\u001b[1;33m.\u001b[0m\u001b[0mdistplot\u001b[0m\u001b[1;33m(\u001b[0m\u001b[0mdf_num\u001b[0m\u001b[1;33m.\u001b[0m\u001b[0mSalePrice\u001b[0m\u001b[1;33m[\u001b[0m\u001b[0mnp\u001b[0m\u001b[1;33m.\u001b[0m\u001b[0misnan\u001b[0m\u001b[1;33m(\u001b[0m\u001b[0mdf_num\u001b[0m\u001b[1;33m.\u001b[0m\u001b[0mGarageYrBlt\u001b[0m\u001b[1;33m)\u001b[0m\u001b[1;33m]\u001b[0m\u001b[1;33m)\u001b[0m\u001b[1;33m\u001b[0m\u001b[0m\n",
      "\u001b[1;32m~\\Anaconda3\\lib\\site-packages\\pandas\\core\\generic.py\u001b[0m in \u001b[0;36m__getattr__\u001b[1;34m(self, name)\u001b[0m\n\u001b[0;32m   3612\u001b[0m             \u001b[1;32mif\u001b[0m \u001b[0mname\u001b[0m \u001b[1;32min\u001b[0m \u001b[0mself\u001b[0m\u001b[1;33m.\u001b[0m\u001b[0m_info_axis\u001b[0m\u001b[1;33m:\u001b[0m\u001b[1;33m\u001b[0m\u001b[0m\n\u001b[0;32m   3613\u001b[0m                 \u001b[1;32mreturn\u001b[0m \u001b[0mself\u001b[0m\u001b[1;33m[\u001b[0m\u001b[0mname\u001b[0m\u001b[1;33m]\u001b[0m\u001b[1;33m\u001b[0m\u001b[0m\n\u001b[1;32m-> 3614\u001b[1;33m             \u001b[1;32mreturn\u001b[0m \u001b[0mobject\u001b[0m\u001b[1;33m.\u001b[0m\u001b[0m__getattribute__\u001b[0m\u001b[1;33m(\u001b[0m\u001b[0mself\u001b[0m\u001b[1;33m,\u001b[0m \u001b[0mname\u001b[0m\u001b[1;33m)\u001b[0m\u001b[1;33m\u001b[0m\u001b[0m\n\u001b[0m\u001b[0;32m   3615\u001b[0m \u001b[1;33m\u001b[0m\u001b[0m\n\u001b[0;32m   3616\u001b[0m     \u001b[1;32mdef\u001b[0m \u001b[0m__setattr__\u001b[0m\u001b[1;33m(\u001b[0m\u001b[0mself\u001b[0m\u001b[1;33m,\u001b[0m \u001b[0mname\u001b[0m\u001b[1;33m,\u001b[0m \u001b[0mvalue\u001b[0m\u001b[1;33m)\u001b[0m\u001b[1;33m:\u001b[0m\u001b[1;33m\u001b[0m\u001b[0m\n",
      "\u001b[1;31mAttributeError\u001b[0m: 'DataFrame' object has no attribute 'SalePrice'"
     ]
    }
   ],
   "source": [
    "sns.distplot(df_num.SalePrice[~np.isnan(df_num.GarageYrBlt)])\n",
    "sns.distplot(df_num.SalePrice[np.isnan(df_num.GarageYrBlt)])"
   ]
  },
  {
   "cell_type": "code",
   "execution_count": 405,
   "metadata": {},
   "outputs": [
    {
     "name": "stderr",
     "output_type": "stream",
     "text": [
      "C:\\Users\\Xi\\Anaconda3\\lib\\site-packages\\pandas\\core\\generic.py:3643: SettingWithCopyWarning: \n",
      "A value is trying to be set on a copy of a slice from a DataFrame.\n",
      "Try using .loc[row_indexer,col_indexer] = value instead\n",
      "\n",
      "See the caveats in the documentation: http://pandas.pydata.org/pandas-docs/stable/indexing.html#indexing-view-versus-copy\n",
      "  self[name] = value\n"
     ]
    }
   ],
   "source": [
    "#we can use clustering to determine the built year, but for now we will just categorize the built year as 0\n",
    "df_num.GarageYrBlt = df_num.GarageYrBlt.fillna(0)"
   ]
  },
  {
   "cell_type": "code",
   "execution_count": 406,
   "metadata": {},
   "outputs": [
    {
     "name": "stderr",
     "output_type": "stream",
     "text": [
      "C:\\Users\\Xi\\Anaconda3\\lib\\site-packages\\pandas\\core\\generic.py:3643: SettingWithCopyWarning: \n",
      "A value is trying to be set on a copy of a slice from a DataFrame.\n",
      "Try using .loc[row_indexer,col_indexer] = value instead\n",
      "\n",
      "See the caveats in the documentation: http://pandas.pydata.org/pandas-docs/stable/indexing.html#indexing-view-versus-copy\n",
      "  self[name] = value\n"
     ]
    }
   ],
   "source": [
    "df_num.MasVnrArea = df_num.MasVnrArea.fillna(10000)"
   ]
  },
  {
   "cell_type": "markdown",
   "metadata": {},
   "source": [
    "## Factorize"
   ]
  },
  {
   "cell_type": "code",
   "execution_count": 223,
   "metadata": {},
   "outputs": [],
   "source": [
    "#df_dict = df_cat.to_dict('records')\n",
    "\n",
    "#dv = DictVectorizer(sparse=False)\n",
    "#df_cat_encoded = dv.fit_transform(df_dict)\n",
    "\n",
    "#df_cat_encoded = pd.DataFrame(df_cat_encoded, columns=dv.vocabulary_)"
   ]
  },
  {
   "cell_type": "code",
   "execution_count": 407,
   "metadata": {},
   "outputs": [],
   "source": [
    "for i in df_cat:\n",
    "    df_cat[i] = pd.factorize(df_cat[i])[0]"
   ]
  },
  {
   "cell_type": "markdown",
   "metadata": {},
   "source": [
    "## "
   ]
  },
  {
   "cell_type": "code",
   "execution_count": 408,
   "metadata": {},
   "outputs": [],
   "source": [
    "df = pd.concat([df_num, df_cat], axis=1)\n",
    "pos = train.shape[0]\n",
    "\n",
    "train = df[:pos]\n",
    "test = df[pos:]"
   ]
  },
  {
   "cell_type": "code",
   "execution_count": 125,
   "metadata": {},
   "outputs": [],
   "source": [
    "#scaler = StandardScaler()\n",
    "#df_num_scale = df_num.apply(lambda x: scaler.fit_transform(x))"
   ]
  },
  {
   "cell_type": "markdown",
   "metadata": {},
   "source": [
    "## XGBoost"
   ]
  },
  {
   "cell_type": "markdown",
   "metadata": {},
   "source": [
    "### Grid Search"
   ]
  },
  {
   "cell_type": "code",
   "execution_count": 410,
   "metadata": {},
   "outputs": [],
   "source": [
    "gbm = xgb.XGBRegressor(nthread=4)\n",
    "\n",
    "gbm_param_grid = {\n",
    "    'learning_rate': np.arange(0, 0.5, 0.05),\n",
    "    'gamma': np.arange(0.01, 1, 0.01),\n",
    "    'max_depth': np.arange(2, 25, 1),\n",
    "    'n_estimators': np.arange(15, 250, 50),\n",
    "    \"colsample_bytree\": np.arange(0.01, 1, 0.1)\n",
    "}\n",
    "\n",
    "randomized_reg = RandomizedSearchCV(estimator=gbm, param_distributions= gbm_param_grid, n_iter=20, cv=10,\n",
    "                                    scoring=\"neg_mean_squared_error\", verbose = 20)"
   ]
  },
  {
   "cell_type": "code",
   "execution_count": 411,
   "metadata": {},
   "outputs": [
    {
     "name": "stdout",
     "output_type": "stream",
     "text": [
      "Fitting 10 folds for each of 20 candidates, totalling 200 fits\n",
      "[CV] learning_rate=0.85, gamma=0.82, colsample_bytree=0.91, max_depth=6, n_estimators=65 \n",
      "[CV]  learning_rate=0.85, gamma=0.82, colsample_bytree=0.91, max_depth=6, n_estimators=65, score=-0.036610501997921846, total=   0.0s\n",
      "[CV] learning_rate=0.85, gamma=0.82, colsample_bytree=0.91, max_depth=6, n_estimators=65 \n"
     ]
    },
    {
     "name": "stderr",
     "output_type": "stream",
     "text": [
      "[Parallel(n_jobs=1)]: Done   1 out of   1 | elapsed:    0.0s remaining:    0.0s\n",
      "[Parallel(n_jobs=1)]: Done   2 out of   2 | elapsed:    0.1s remaining:    0.0s\n"
     ]
    },
    {
     "name": "stdout",
     "output_type": "stream",
     "text": [
      "[CV]  learning_rate=0.85, gamma=0.82, colsample_bytree=0.91, max_depth=6, n_estimators=65, score=-0.02484842564733148, total=   0.0s\n",
      "[CV] learning_rate=0.85, gamma=0.82, colsample_bytree=0.91, max_depth=6, n_estimators=65 \n",
      "[CV]  learning_rate=0.85, gamma=0.82, colsample_bytree=0.91, max_depth=6, n_estimators=65, score=-0.0234580820099192, total=   0.0s\n",
      "[CV] learning_rate=0.85, gamma=0.82, colsample_bytree=0.91, max_depth=6, n_estimators=65 \n"
     ]
    },
    {
     "name": "stderr",
     "output_type": "stream",
     "text": [
      "[Parallel(n_jobs=1)]: Done   3 out of   3 | elapsed:    0.2s remaining:    0.0s\n",
      "[Parallel(n_jobs=1)]: Done   4 out of   4 | elapsed:    0.4s remaining:    0.0s\n"
     ]
    },
    {
     "name": "stdout",
     "output_type": "stream",
     "text": [
      "[CV]  learning_rate=0.85, gamma=0.82, colsample_bytree=0.91, max_depth=6, n_estimators=65, score=-0.036138353530481414, total=   0.0s\n",
      "[CV] learning_rate=0.85, gamma=0.82, colsample_bytree=0.91, max_depth=6, n_estimators=65 \n",
      "[CV]  learning_rate=0.85, gamma=0.82, colsample_bytree=0.91, max_depth=6, n_estimators=65, score=-0.04297214980270052, total=   0.0s\n",
      "[CV] learning_rate=0.85, gamma=0.82, colsample_bytree=0.91, max_depth=6, n_estimators=65 \n"
     ]
    },
    {
     "name": "stderr",
     "output_type": "stream",
     "text": [
      "[Parallel(n_jobs=1)]: Done   5 out of   5 | elapsed:    0.5s remaining:    0.0s\n",
      "[Parallel(n_jobs=1)]: Done   6 out of   6 | elapsed:    0.6s remaining:    0.0s\n"
     ]
    },
    {
     "name": "stdout",
     "output_type": "stream",
     "text": [
      "[CV]  learning_rate=0.85, gamma=0.82, colsample_bytree=0.91, max_depth=6, n_estimators=65, score=-0.02321294721804981, total=   0.0s\n",
      "[CV] learning_rate=0.85, gamma=0.82, colsample_bytree=0.91, max_depth=6, n_estimators=65 \n",
      "[CV]  learning_rate=0.85, gamma=0.82, colsample_bytree=0.91, max_depth=6, n_estimators=65, score=-0.03285474978365923, total=   0.0s\n",
      "[CV] learning_rate=0.85, gamma=0.82, colsample_bytree=0.91, max_depth=6, n_estimators=65 \n"
     ]
    },
    {
     "name": "stderr",
     "output_type": "stream",
     "text": [
      "[Parallel(n_jobs=1)]: Done   7 out of   7 | elapsed:    0.7s remaining:    0.0s\n",
      "[Parallel(n_jobs=1)]: Done   8 out of   8 | elapsed:    0.8s remaining:    0.0s\n"
     ]
    },
    {
     "name": "stdout",
     "output_type": "stream",
     "text": [
      "[CV]  learning_rate=0.85, gamma=0.82, colsample_bytree=0.91, max_depth=6, n_estimators=65, score=-0.026964006905629282, total=   0.0s\n",
      "[CV] learning_rate=0.85, gamma=0.82, colsample_bytree=0.91, max_depth=6, n_estimators=65 \n",
      "[CV]  learning_rate=0.85, gamma=0.82, colsample_bytree=0.91, max_depth=6, n_estimators=65, score=-0.030140905359952765, total=   0.0s\n",
      "[CV] learning_rate=0.85, gamma=0.82, colsample_bytree=0.91, max_depth=6, n_estimators=65 \n"
     ]
    },
    {
     "name": "stderr",
     "output_type": "stream",
     "text": [
      "[Parallel(n_jobs=1)]: Done   9 out of   9 | elapsed:    0.9s remaining:    0.0s\n",
      "[Parallel(n_jobs=1)]: Done  10 out of  10 | elapsed:    1.1s remaining:    0.0s\n"
     ]
    },
    {
     "name": "stdout",
     "output_type": "stream",
     "text": [
      "[CV]  learning_rate=0.85, gamma=0.82, colsample_bytree=0.91, max_depth=6, n_estimators=65, score=-0.03758967789342204, total=   0.0s\n",
      "[CV] learning_rate=0.8, gamma=0.05, colsample_bytree=0.11, max_depth=14, n_estimators=215 \n",
      "[CV]  learning_rate=0.8, gamma=0.05, colsample_bytree=0.11, max_depth=14, n_estimators=215, score=-0.04203616880744297, total=   0.1s\n",
      "[CV] learning_rate=0.8, gamma=0.05, colsample_bytree=0.11, max_depth=14, n_estimators=215 \n"
     ]
    },
    {
     "name": "stderr",
     "output_type": "stream",
     "text": [
      "[Parallel(n_jobs=1)]: Done  11 out of  11 | elapsed:    1.3s remaining:    0.0s\n"
     ]
    },
    {
     "name": "stdout",
     "output_type": "stream",
     "text": [
      "[CV]  learning_rate=0.8, gamma=0.05, colsample_bytree=0.11, max_depth=14, n_estimators=215, score=-0.04615543215986269, total=   0.1s\n",
      "[CV] learning_rate=0.8, gamma=0.05, colsample_bytree=0.11, max_depth=14, n_estimators=215 \n"
     ]
    },
    {
     "name": "stderr",
     "output_type": "stream",
     "text": [
      "[Parallel(n_jobs=1)]: Done  12 out of  12 | elapsed:    1.5s remaining:    0.0s\n"
     ]
    },
    {
     "name": "stdout",
     "output_type": "stream",
     "text": [
      "[CV]  learning_rate=0.8, gamma=0.05, colsample_bytree=0.11, max_depth=14, n_estimators=215, score=-0.05523105376721691, total=   0.1s\n",
      "[CV] learning_rate=0.8, gamma=0.05, colsample_bytree=0.11, max_depth=14, n_estimators=215 \n"
     ]
    },
    {
     "name": "stderr",
     "output_type": "stream",
     "text": [
      "[Parallel(n_jobs=1)]: Done  13 out of  13 | elapsed:    1.8s remaining:    0.0s\n"
     ]
    },
    {
     "name": "stdout",
     "output_type": "stream",
     "text": [
      "[CV]  learning_rate=0.8, gamma=0.05, colsample_bytree=0.11, max_depth=14, n_estimators=215, score=-0.04180536415474734, total=   0.1s\n",
      "[CV] learning_rate=0.8, gamma=0.05, colsample_bytree=0.11, max_depth=14, n_estimators=215 \n"
     ]
    },
    {
     "name": "stderr",
     "output_type": "stream",
     "text": [
      "[Parallel(n_jobs=1)]: Done  14 out of  14 | elapsed:    2.0s remaining:    0.0s\n"
     ]
    },
    {
     "name": "stdout",
     "output_type": "stream",
     "text": [
      "[CV]  learning_rate=0.8, gamma=0.05, colsample_bytree=0.11, max_depth=14, n_estimators=215, score=-0.04326226966942817, total=   0.1s\n",
      "[CV] learning_rate=0.8, gamma=0.05, colsample_bytree=0.11, max_depth=14, n_estimators=215 \n"
     ]
    },
    {
     "name": "stderr",
     "output_type": "stream",
     "text": [
      "[Parallel(n_jobs=1)]: Done  15 out of  15 | elapsed:    2.3s remaining:    0.0s\n"
     ]
    },
    {
     "name": "stdout",
     "output_type": "stream",
     "text": [
      "[CV]  learning_rate=0.8, gamma=0.05, colsample_bytree=0.11, max_depth=14, n_estimators=215, score=-0.036153450856891, total=   0.1s\n",
      "[CV] learning_rate=0.8, gamma=0.05, colsample_bytree=0.11, max_depth=14, n_estimators=215 \n"
     ]
    },
    {
     "name": "stderr",
     "output_type": "stream",
     "text": [
      "[Parallel(n_jobs=1)]: Done  16 out of  16 | elapsed:    2.5s remaining:    0.0s\n"
     ]
    },
    {
     "name": "stdout",
     "output_type": "stream",
     "text": [
      "[CV]  learning_rate=0.8, gamma=0.05, colsample_bytree=0.11, max_depth=14, n_estimators=215, score=-0.033956163352917505, total=   0.1s\n",
      "[CV] learning_rate=0.8, gamma=0.05, colsample_bytree=0.11, max_depth=14, n_estimators=215 \n"
     ]
    },
    {
     "name": "stderr",
     "output_type": "stream",
     "text": [
      "[Parallel(n_jobs=1)]: Done  17 out of  17 | elapsed:    2.8s remaining:    0.0s\n"
     ]
    },
    {
     "name": "stdout",
     "output_type": "stream",
     "text": [
      "[CV]  learning_rate=0.8, gamma=0.05, colsample_bytree=0.11, max_depth=14, n_estimators=215, score=-0.047932347198833374, total=   0.1s\n",
      "[CV] learning_rate=0.8, gamma=0.05, colsample_bytree=0.11, max_depth=14, n_estimators=215 \n"
     ]
    },
    {
     "name": "stderr",
     "output_type": "stream",
     "text": [
      "[Parallel(n_jobs=1)]: Done  18 out of  18 | elapsed:    3.0s remaining:    0.0s\n"
     ]
    },
    {
     "name": "stdout",
     "output_type": "stream",
     "text": [
      "[CV]  learning_rate=0.8, gamma=0.05, colsample_bytree=0.11, max_depth=14, n_estimators=215, score=-0.03549376720787368, total=   0.1s\n",
      "[CV] learning_rate=0.8, gamma=0.05, colsample_bytree=0.11, max_depth=14, n_estimators=215 \n"
     ]
    },
    {
     "name": "stderr",
     "output_type": "stream",
     "text": [
      "[Parallel(n_jobs=1)]: Done  19 out of  19 | elapsed:    3.2s remaining:    0.0s\n"
     ]
    },
    {
     "name": "stdout",
     "output_type": "stream",
     "text": [
      "[CV]  learning_rate=0.8, gamma=0.05, colsample_bytree=0.11, max_depth=14, n_estimators=215, score=-0.0366735764746189, total=   0.1s\n",
      "[CV] learning_rate=0.05, gamma=0.4, colsample_bytree=0.61, max_depth=24, n_estimators=215 \n",
      "[CV]  learning_rate=0.05, gamma=0.4, colsample_bytree=0.61, max_depth=24, n_estimators=215, score=-0.018637477669173907, total=   0.7s\n",
      "[CV] learning_rate=0.05, gamma=0.4, colsample_bytree=0.61, max_depth=24, n_estimators=215 \n",
      "[CV]  learning_rate=0.05, gamma=0.4, colsample_bytree=0.61, max_depth=24, n_estimators=215, score=-0.015860305234074872, total=   0.7s\n",
      "[CV] learning_rate=0.05, gamma=0.4, colsample_bytree=0.61, max_depth=24, n_estimators=215 \n",
      "[CV]  learning_rate=0.05, gamma=0.4, colsample_bytree=0.61, max_depth=24, n_estimators=215, score=-0.0161757670124997, total=   0.7s\n",
      "[CV] learning_rate=0.05, gamma=0.4, colsample_bytree=0.61, max_depth=24, n_estimators=215 \n",
      "[CV]  learning_rate=0.05, gamma=0.4, colsample_bytree=0.61, max_depth=24, n_estimators=215, score=-0.02317018483464164, total=   0.7s\n",
      "[CV] learning_rate=0.05, gamma=0.4, colsample_bytree=0.61, max_depth=24, n_estimators=215 \n",
      "[CV]  learning_rate=0.05, gamma=0.4, colsample_bytree=0.61, max_depth=24, n_estimators=215, score=-0.026978916592741813, total=   0.7s\n",
      "[CV] learning_rate=0.05, gamma=0.4, colsample_bytree=0.61, max_depth=24, n_estimators=215 \n",
      "[CV]  learning_rate=0.05, gamma=0.4, colsample_bytree=0.61, max_depth=24, n_estimators=215, score=-0.015040105496374573, total=   0.7s\n",
      "[CV] learning_rate=0.05, gamma=0.4, colsample_bytree=0.61, max_depth=24, n_estimators=215 \n",
      "[CV]  learning_rate=0.05, gamma=0.4, colsample_bytree=0.61, max_depth=24, n_estimators=215, score=-0.020298115438219234, total=   0.7s\n",
      "[CV] learning_rate=0.05, gamma=0.4, colsample_bytree=0.61, max_depth=24, n_estimators=215 \n",
      "[CV]  learning_rate=0.05, gamma=0.4, colsample_bytree=0.61, max_depth=24, n_estimators=215, score=-0.015638723006737933, total=   0.7s\n",
      "[CV] learning_rate=0.05, gamma=0.4, colsample_bytree=0.61, max_depth=24, n_estimators=215 \n",
      "[CV]  learning_rate=0.05, gamma=0.4, colsample_bytree=0.61, max_depth=24, n_estimators=215, score=-0.016879652877562896, total=   0.7s\n",
      "[CV] learning_rate=0.05, gamma=0.4, colsample_bytree=0.61, max_depth=24, n_estimators=215 \n",
      "[CV]  learning_rate=0.05, gamma=0.4, colsample_bytree=0.61, max_depth=24, n_estimators=215, score=-0.02122797191190319, total=   0.7s\n",
      "[CV] learning_rate=0.85, gamma=0.82, colsample_bytree=0.41, max_depth=7, n_estimators=115 \n",
      "[CV]  learning_rate=0.85, gamma=0.82, colsample_bytree=0.41, max_depth=7, n_estimators=115, score=-0.03127031617861987, total=   0.0s\n",
      "[CV] learning_rate=0.85, gamma=0.82, colsample_bytree=0.41, max_depth=7, n_estimators=115 \n",
      "[CV]  learning_rate=0.85, gamma=0.82, colsample_bytree=0.41, max_depth=7, n_estimators=115, score=-0.03428241718675984, total=   0.0s\n",
      "[CV] learning_rate=0.85, gamma=0.82, colsample_bytree=0.41, max_depth=7, n_estimators=115 \n",
      "[CV]  learning_rate=0.85, gamma=0.82, colsample_bytree=0.41, max_depth=7, n_estimators=115, score=-0.028428510968813405, total=   0.0s\n",
      "[CV] learning_rate=0.85, gamma=0.82, colsample_bytree=0.41, max_depth=7, n_estimators=115 \n",
      "[CV]  learning_rate=0.85, gamma=0.82, colsample_bytree=0.41, max_depth=7, n_estimators=115, score=-0.03851717093413095, total=   0.1s\n",
      "[CV] learning_rate=0.85, gamma=0.82, colsample_bytree=0.41, max_depth=7, n_estimators=115 \n",
      "[CV]  learning_rate=0.85, gamma=0.82, colsample_bytree=0.41, max_depth=7, n_estimators=115, score=-0.03577007632346528, total=   0.0s\n",
      "[CV] learning_rate=0.85, gamma=0.82, colsample_bytree=0.41, max_depth=7, n_estimators=115 \n",
      "[CV]  learning_rate=0.85, gamma=0.82, colsample_bytree=0.41, max_depth=7, n_estimators=115, score=-0.021840613209481326, total=   0.0s\n",
      "[CV] learning_rate=0.85, gamma=0.82, colsample_bytree=0.41, max_depth=7, n_estimators=115 \n",
      "[CV]  learning_rate=0.85, gamma=0.82, colsample_bytree=0.41, max_depth=7, n_estimators=115, score=-0.029017017351802708, total=   0.0s\n",
      "[CV] learning_rate=0.85, gamma=0.82, colsample_bytree=0.41, max_depth=7, n_estimators=115 \n",
      "[CV]  learning_rate=0.85, gamma=0.82, colsample_bytree=0.41, max_depth=7, n_estimators=115, score=-0.024886495745459127, total=   0.0s\n",
      "[CV] learning_rate=0.85, gamma=0.82, colsample_bytree=0.41, max_depth=7, n_estimators=115 \n",
      "[CV]  learning_rate=0.85, gamma=0.82, colsample_bytree=0.41, max_depth=7, n_estimators=115, score=-0.028271315638143318, total=   0.0s\n",
      "[CV] learning_rate=0.85, gamma=0.82, colsample_bytree=0.41, max_depth=7, n_estimators=115 \n",
      "[CV]  learning_rate=0.85, gamma=0.82, colsample_bytree=0.41, max_depth=7, n_estimators=115, score=-0.028219227650592624, total=   0.0s\n",
      "[CV] learning_rate=0.2, gamma=0.04, colsample_bytree=0.21, max_depth=10, n_estimators=215 \n",
      "[CV]  learning_rate=0.2, gamma=0.04, colsample_bytree=0.21, max_depth=10, n_estimators=215, score=-0.01999104601546044, total=   0.1s\n",
      "[CV] learning_rate=0.2, gamma=0.04, colsample_bytree=0.21, max_depth=10, n_estimators=215 \n",
      "[CV]  learning_rate=0.2, gamma=0.04, colsample_bytree=0.21, max_depth=10, n_estimators=215, score=-0.014332871094392137, total=   0.1s\n",
      "[CV] learning_rate=0.2, gamma=0.04, colsample_bytree=0.21, max_depth=10, n_estimators=215 \n",
      "[CV]  learning_rate=0.2, gamma=0.04, colsample_bytree=0.21, max_depth=10, n_estimators=215, score=-0.015752534938586287, total=   0.1s\n",
      "[CV] learning_rate=0.2, gamma=0.04, colsample_bytree=0.21, max_depth=10, n_estimators=215 \n",
      "[CV]  learning_rate=0.2, gamma=0.04, colsample_bytree=0.21, max_depth=10, n_estimators=215, score=-0.022935465556896833, total=   0.1s\n",
      "[CV] learning_rate=0.2, gamma=0.04, colsample_bytree=0.21, max_depth=10, n_estimators=215 \n",
      "[CV]  learning_rate=0.2, gamma=0.04, colsample_bytree=0.21, max_depth=10, n_estimators=215, score=-0.024920755377620396, total=   0.1s\n",
      "[CV] learning_rate=0.2, gamma=0.04, colsample_bytree=0.21, max_depth=10, n_estimators=215 \n",
      "[CV]  learning_rate=0.2, gamma=0.04, colsample_bytree=0.21, max_depth=10, n_estimators=215, score=-0.01472804762427478, total=   0.1s\n",
      "[CV] learning_rate=0.2, gamma=0.04, colsample_bytree=0.21, max_depth=10, n_estimators=215 \n",
      "[CV]  learning_rate=0.2, gamma=0.04, colsample_bytree=0.21, max_depth=10, n_estimators=215, score=-0.017959396875368603, total=   0.1s\n",
      "[CV] learning_rate=0.2, gamma=0.04, colsample_bytree=0.21, max_depth=10, n_estimators=215 \n",
      "[CV]  learning_rate=0.2, gamma=0.04, colsample_bytree=0.21, max_depth=10, n_estimators=215, score=-0.016331234250318065, total=   0.1s\n",
      "[CV] learning_rate=0.2, gamma=0.04, colsample_bytree=0.21, max_depth=10, n_estimators=215 \n",
      "[CV]  learning_rate=0.2, gamma=0.04, colsample_bytree=0.21, max_depth=10, n_estimators=215, score=-0.012946528883972535, total=   0.1s\n",
      "[CV] learning_rate=0.2, gamma=0.04, colsample_bytree=0.21, max_depth=10, n_estimators=215 \n",
      "[CV]  learning_rate=0.2, gamma=0.04, colsample_bytree=0.21, max_depth=10, n_estimators=215, score=-0.022602859862310722, total=   0.1s\n",
      "[CV] learning_rate=0.45, gamma=0.73, colsample_bytree=0.11, max_depth=22, n_estimators=65 \n",
      "[CV]  learning_rate=0.45, gamma=0.73, colsample_bytree=0.11, max_depth=22, n_estimators=65, score=-0.02615992700149065, total=   0.0s\n",
      "[CV] learning_rate=0.45, gamma=0.73, colsample_bytree=0.11, max_depth=22, n_estimators=65 \n",
      "[CV]  learning_rate=0.45, gamma=0.73, colsample_bytree=0.11, max_depth=22, n_estimators=65, score=-0.016805388227987564, total=   0.0s\n",
      "[CV] learning_rate=0.45, gamma=0.73, colsample_bytree=0.11, max_depth=22, n_estimators=65 \n",
      "[CV]  learning_rate=0.45, gamma=0.73, colsample_bytree=0.11, max_depth=22, n_estimators=65, score=-0.021820662543814245, total=   0.0s\n",
      "[CV] learning_rate=0.45, gamma=0.73, colsample_bytree=0.11, max_depth=22, n_estimators=65 \n",
      "[CV]  learning_rate=0.45, gamma=0.73, colsample_bytree=0.11, max_depth=22, n_estimators=65, score=-0.031464964917212755, total=   0.0s\n",
      "[CV] learning_rate=0.45, gamma=0.73, colsample_bytree=0.11, max_depth=22, n_estimators=65 \n",
      "[CV]  learning_rate=0.45, gamma=0.73, colsample_bytree=0.11, max_depth=22, n_estimators=65, score=-0.030705647795371036, total=   0.0s\n",
      "[CV] learning_rate=0.45, gamma=0.73, colsample_bytree=0.11, max_depth=22, n_estimators=65 \n",
      "[CV]  learning_rate=0.45, gamma=0.73, colsample_bytree=0.11, max_depth=22, n_estimators=65, score=-0.019607232057135292, total=   0.0s\n",
      "[CV] learning_rate=0.45, gamma=0.73, colsample_bytree=0.11, max_depth=22, n_estimators=65 \n",
      "[CV]  learning_rate=0.45, gamma=0.73, colsample_bytree=0.11, max_depth=22, n_estimators=65, score=-0.0288962620719918, total=   0.0s\n"
     ]
    },
    {
     "name": "stdout",
     "output_type": "stream",
     "text": [
      "[CV] learning_rate=0.45, gamma=0.73, colsample_bytree=0.11, max_depth=22, n_estimators=65 \n",
      "[CV]  learning_rate=0.45, gamma=0.73, colsample_bytree=0.11, max_depth=22, n_estimators=65, score=-0.02672779855236473, total=   0.0s\n",
      "[CV] learning_rate=0.45, gamma=0.73, colsample_bytree=0.11, max_depth=22, n_estimators=65 \n",
      "[CV]  learning_rate=0.45, gamma=0.73, colsample_bytree=0.11, max_depth=22, n_estimators=65, score=-0.02578333646663542, total=   0.0s\n",
      "[CV] learning_rate=0.45, gamma=0.73, colsample_bytree=0.11, max_depth=22, n_estimators=65 \n",
      "[CV]  learning_rate=0.45, gamma=0.73, colsample_bytree=0.11, max_depth=22, n_estimators=65, score=-0.02791960578357931, total=   0.0s\n",
      "[CV] learning_rate=0.3, gamma=0.71, colsample_bytree=0.61, max_depth=17, n_estimators=215 \n",
      "[CV]  learning_rate=0.3, gamma=0.71, colsample_bytree=0.61, max_depth=17, n_estimators=215, score=-0.021835753847095157, total=   0.7s\n",
      "[CV] learning_rate=0.3, gamma=0.71, colsample_bytree=0.61, max_depth=17, n_estimators=215 \n",
      "[CV]  learning_rate=0.3, gamma=0.71, colsample_bytree=0.61, max_depth=17, n_estimators=215, score=-0.0195020113575099, total=   0.7s\n",
      "[CV] learning_rate=0.3, gamma=0.71, colsample_bytree=0.61, max_depth=17, n_estimators=215 \n",
      "[CV]  learning_rate=0.3, gamma=0.71, colsample_bytree=0.61, max_depth=17, n_estimators=215, score=-0.019635492326482956, total=   0.7s\n",
      "[CV] learning_rate=0.3, gamma=0.71, colsample_bytree=0.61, max_depth=17, n_estimators=215 \n",
      "[CV]  learning_rate=0.3, gamma=0.71, colsample_bytree=0.61, max_depth=17, n_estimators=215, score=-0.02332183161016587, total=   0.7s\n",
      "[CV] learning_rate=0.3, gamma=0.71, colsample_bytree=0.61, max_depth=17, n_estimators=215 \n",
      "[CV]  learning_rate=0.3, gamma=0.71, colsample_bytree=0.61, max_depth=17, n_estimators=215, score=-0.028754511260231957, total=   0.8s\n",
      "[CV] learning_rate=0.3, gamma=0.71, colsample_bytree=0.61, max_depth=17, n_estimators=215 \n",
      "[CV]  learning_rate=0.3, gamma=0.71, colsample_bytree=0.61, max_depth=17, n_estimators=215, score=-0.016479159454334064, total=   0.8s\n",
      "[CV] learning_rate=0.3, gamma=0.71, colsample_bytree=0.61, max_depth=17, n_estimators=215 \n",
      "[CV]  learning_rate=0.3, gamma=0.71, colsample_bytree=0.61, max_depth=17, n_estimators=215, score=-0.023824328241279766, total=   0.8s\n",
      "[CV] learning_rate=0.3, gamma=0.71, colsample_bytree=0.61, max_depth=17, n_estimators=215 \n",
      "[CV]  learning_rate=0.3, gamma=0.71, colsample_bytree=0.61, max_depth=17, n_estimators=215, score=-0.01743931854690134, total=   0.7s\n",
      "[CV] learning_rate=0.3, gamma=0.71, colsample_bytree=0.61, max_depth=17, n_estimators=215 \n",
      "[CV]  learning_rate=0.3, gamma=0.71, colsample_bytree=0.61, max_depth=17, n_estimators=215, score=-0.020629413994521846, total=   0.7s\n",
      "[CV] learning_rate=0.3, gamma=0.71, colsample_bytree=0.61, max_depth=17, n_estimators=215 \n",
      "[CV]  learning_rate=0.3, gamma=0.71, colsample_bytree=0.61, max_depth=17, n_estimators=215, score=-0.021945828494011665, total=   0.8s\n",
      "[CV] learning_rate=0.75, gamma=0.1, colsample_bytree=0.91, max_depth=17, n_estimators=65 \n",
      "[CV]  learning_rate=0.75, gamma=0.1, colsample_bytree=0.91, max_depth=17, n_estimators=65, score=-0.03114534513147781, total=   0.2s\n",
      "[CV] learning_rate=0.75, gamma=0.1, colsample_bytree=0.91, max_depth=17, n_estimators=65 \n",
      "[CV]  learning_rate=0.75, gamma=0.1, colsample_bytree=0.91, max_depth=17, n_estimators=65, score=-0.023658771915332003, total=   0.2s\n",
      "[CV] learning_rate=0.75, gamma=0.1, colsample_bytree=0.91, max_depth=17, n_estimators=65 \n",
      "[CV]  learning_rate=0.75, gamma=0.1, colsample_bytree=0.91, max_depth=17, n_estimators=65, score=-0.027191903924943178, total=   0.3s\n",
      "[CV] learning_rate=0.75, gamma=0.1, colsample_bytree=0.91, max_depth=17, n_estimators=65 \n",
      "[CV]  learning_rate=0.75, gamma=0.1, colsample_bytree=0.91, max_depth=17, n_estimators=65, score=-0.024210921566741418, total=   0.2s\n",
      "[CV] learning_rate=0.75, gamma=0.1, colsample_bytree=0.91, max_depth=17, n_estimators=65 \n",
      "[CV]  learning_rate=0.75, gamma=0.1, colsample_bytree=0.91, max_depth=17, n_estimators=65, score=-0.043890468627796185, total=   0.3s\n",
      "[CV] learning_rate=0.75, gamma=0.1, colsample_bytree=0.91, max_depth=17, n_estimators=65 \n",
      "[CV]  learning_rate=0.75, gamma=0.1, colsample_bytree=0.91, max_depth=17, n_estimators=65, score=-0.025829292377444343, total=   0.3s\n",
      "[CV] learning_rate=0.75, gamma=0.1, colsample_bytree=0.91, max_depth=17, n_estimators=65 \n",
      "[CV]  learning_rate=0.75, gamma=0.1, colsample_bytree=0.91, max_depth=17, n_estimators=65, score=-0.04004422324830951, total=   0.3s\n",
      "[CV] learning_rate=0.75, gamma=0.1, colsample_bytree=0.91, max_depth=17, n_estimators=65 \n",
      "[CV]  learning_rate=0.75, gamma=0.1, colsample_bytree=0.91, max_depth=17, n_estimators=65, score=-0.024600052549841947, total=   0.3s\n",
      "[CV] learning_rate=0.75, gamma=0.1, colsample_bytree=0.91, max_depth=17, n_estimators=65 \n",
      "[CV]  learning_rate=0.75, gamma=0.1, colsample_bytree=0.91, max_depth=17, n_estimators=65, score=-0.025658345047530565, total=   0.2s\n",
      "[CV] learning_rate=0.75, gamma=0.1, colsample_bytree=0.91, max_depth=17, n_estimators=65 \n",
      "[CV]  learning_rate=0.75, gamma=0.1, colsample_bytree=0.91, max_depth=17, n_estimators=65, score=-0.024471904190844194, total=   0.3s\n",
      "[CV] learning_rate=0.15, gamma=0.96, colsample_bytree=0.11, max_depth=4, n_estimators=215 \n",
      "[CV]  learning_rate=0.15, gamma=0.96, colsample_bytree=0.11, max_depth=4, n_estimators=215, score=-0.020250401749382054, total=   0.0s\n",
      "[CV] learning_rate=0.15, gamma=0.96, colsample_bytree=0.11, max_depth=4, n_estimators=215 \n",
      "[CV]  learning_rate=0.15, gamma=0.96, colsample_bytree=0.11, max_depth=4, n_estimators=215, score=-0.01968018675212525, total=   0.0s\n",
      "[CV] learning_rate=0.15, gamma=0.96, colsample_bytree=0.11, max_depth=4, n_estimators=215 \n",
      "[CV]  learning_rate=0.15, gamma=0.96, colsample_bytree=0.11, max_depth=4, n_estimators=215, score=-0.020814747482168418, total=   0.0s\n",
      "[CV] learning_rate=0.15, gamma=0.96, colsample_bytree=0.11, max_depth=4, n_estimators=215 \n",
      "[CV]  learning_rate=0.15, gamma=0.96, colsample_bytree=0.11, max_depth=4, n_estimators=215, score=-0.030423777806110386, total=   0.0s\n",
      "[CV] learning_rate=0.15, gamma=0.96, colsample_bytree=0.11, max_depth=4, n_estimators=215 \n",
      "[CV]  learning_rate=0.15, gamma=0.96, colsample_bytree=0.11, max_depth=4, n_estimators=215, score=-0.03346806802077497, total=   0.0s\n",
      "[CV] learning_rate=0.15, gamma=0.96, colsample_bytree=0.11, max_depth=4, n_estimators=215 \n",
      "[CV]  learning_rate=0.15, gamma=0.96, colsample_bytree=0.11, max_depth=4, n_estimators=215, score=-0.01742117943104385, total=   0.0s\n",
      "[CV] learning_rate=0.15, gamma=0.96, colsample_bytree=0.11, max_depth=4, n_estimators=215 \n",
      "[CV]  learning_rate=0.15, gamma=0.96, colsample_bytree=0.11, max_depth=4, n_estimators=215, score=-0.023742328207062697, total=   0.0s\n",
      "[CV] learning_rate=0.15, gamma=0.96, colsample_bytree=0.11, max_depth=4, n_estimators=215 \n",
      "[CV]  learning_rate=0.15, gamma=0.96, colsample_bytree=0.11, max_depth=4, n_estimators=215, score=-0.01843930530668733, total=   0.0s\n",
      "[CV] learning_rate=0.15, gamma=0.96, colsample_bytree=0.11, max_depth=4, n_estimators=215 \n",
      "[CV]  learning_rate=0.15, gamma=0.96, colsample_bytree=0.11, max_depth=4, n_estimators=215, score=-0.021203089029576933, total=   0.0s\n",
      "[CV] learning_rate=0.15, gamma=0.96, colsample_bytree=0.11, max_depth=4, n_estimators=215 \n",
      "[CV]  learning_rate=0.15, gamma=0.96, colsample_bytree=0.11, max_depth=4, n_estimators=215, score=-0.023586180412044067, total=   0.0s\n",
      "[CV] learning_rate=0.95, gamma=0.43, colsample_bytree=0.81, max_depth=3, n_estimators=165 \n",
      "[CV]  learning_rate=0.95, gamma=0.43, colsample_bytree=0.81, max_depth=3, n_estimators=165, score=-0.02266677562161941, total=   0.0s\n",
      "[CV] learning_rate=0.95, gamma=0.43, colsample_bytree=0.81, max_depth=3, n_estimators=165 \n",
      "[CV]  learning_rate=0.95, gamma=0.43, colsample_bytree=0.81, max_depth=3, n_estimators=165, score=-0.024611326232797295, total=   0.0s\n",
      "[CV] learning_rate=0.95, gamma=0.43, colsample_bytree=0.81, max_depth=3, n_estimators=165 \n",
      "[CV]  learning_rate=0.95, gamma=0.43, colsample_bytree=0.81, max_depth=3, n_estimators=165, score=-0.02439474534441825, total=   0.0s\n",
      "[CV] learning_rate=0.95, gamma=0.43, colsample_bytree=0.81, max_depth=3, n_estimators=165 \n",
      "[CV]  learning_rate=0.95, gamma=0.43, colsample_bytree=0.81, max_depth=3, n_estimators=165, score=-0.030680202295022822, total=   0.0s\n",
      "[CV] learning_rate=0.95, gamma=0.43, colsample_bytree=0.81, max_depth=3, n_estimators=165 \n"
     ]
    },
    {
     "name": "stdout",
     "output_type": "stream",
     "text": [
      "[CV]  learning_rate=0.95, gamma=0.43, colsample_bytree=0.81, max_depth=3, n_estimators=165, score=-0.04195986338996293, total=   0.0s\n",
      "[CV] learning_rate=0.95, gamma=0.43, colsample_bytree=0.81, max_depth=3, n_estimators=165 \n",
      "[CV]  learning_rate=0.95, gamma=0.43, colsample_bytree=0.81, max_depth=3, n_estimators=165, score=-0.023149678375684993, total=   0.0s\n",
      "[CV] learning_rate=0.95, gamma=0.43, colsample_bytree=0.81, max_depth=3, n_estimators=165 \n",
      "[CV]  learning_rate=0.95, gamma=0.43, colsample_bytree=0.81, max_depth=3, n_estimators=165, score=-0.02589835332195242, total=   0.0s\n",
      "[CV] learning_rate=0.95, gamma=0.43, colsample_bytree=0.81, max_depth=3, n_estimators=165 \n",
      "[CV]  learning_rate=0.95, gamma=0.43, colsample_bytree=0.81, max_depth=3, n_estimators=165, score=-0.020629866023870215, total=   0.0s\n",
      "[CV] learning_rate=0.95, gamma=0.43, colsample_bytree=0.81, max_depth=3, n_estimators=165 \n",
      "[CV]  learning_rate=0.95, gamma=0.43, colsample_bytree=0.81, max_depth=3, n_estimators=165, score=-0.022587561102994216, total=   0.0s\n",
      "[CV] learning_rate=0.95, gamma=0.43, colsample_bytree=0.81, max_depth=3, n_estimators=165 \n",
      "[CV]  learning_rate=0.95, gamma=0.43, colsample_bytree=0.81, max_depth=3, n_estimators=165, score=-0.02981247755820065, total=   0.0s\n",
      "[CV] learning_rate=0.1, gamma=0.77, colsample_bytree=0.31, max_depth=13, n_estimators=165 \n",
      "[CV]  learning_rate=0.1, gamma=0.77, colsample_bytree=0.31, max_depth=13, n_estimators=165, score=-0.018998572480820826, total=   0.2s\n",
      "[CV] learning_rate=0.1, gamma=0.77, colsample_bytree=0.31, max_depth=13, n_estimators=165 \n",
      "[CV]  learning_rate=0.1, gamma=0.77, colsample_bytree=0.31, max_depth=13, n_estimators=165, score=-0.01857185355610484, total=   0.2s\n",
      "[CV] learning_rate=0.1, gamma=0.77, colsample_bytree=0.31, max_depth=13, n_estimators=165 \n",
      "[CV]  learning_rate=0.1, gamma=0.77, colsample_bytree=0.31, max_depth=13, n_estimators=165, score=-0.019507776164072663, total=   0.2s\n",
      "[CV] learning_rate=0.1, gamma=0.77, colsample_bytree=0.31, max_depth=13, n_estimators=165 \n",
      "[CV]  learning_rate=0.1, gamma=0.77, colsample_bytree=0.31, max_depth=13, n_estimators=165, score=-0.02580813909999405, total=   0.2s\n",
      "[CV] learning_rate=0.1, gamma=0.77, colsample_bytree=0.31, max_depth=13, n_estimators=165 \n",
      "[CV]  learning_rate=0.1, gamma=0.77, colsample_bytree=0.31, max_depth=13, n_estimators=165, score=-0.029547447169865473, total=   0.2s\n",
      "[CV] learning_rate=0.1, gamma=0.77, colsample_bytree=0.31, max_depth=13, n_estimators=165 \n",
      "[CV]  learning_rate=0.1, gamma=0.77, colsample_bytree=0.31, max_depth=13, n_estimators=165, score=-0.015910429733056772, total=   0.2s\n",
      "[CV] learning_rate=0.1, gamma=0.77, colsample_bytree=0.31, max_depth=13, n_estimators=165 \n",
      "[CV]  learning_rate=0.1, gamma=0.77, colsample_bytree=0.31, max_depth=13, n_estimators=165, score=-0.024104454549495627, total=   0.2s\n",
      "[CV] learning_rate=0.1, gamma=0.77, colsample_bytree=0.31, max_depth=13, n_estimators=165 \n",
      "[CV]  learning_rate=0.1, gamma=0.77, colsample_bytree=0.31, max_depth=13, n_estimators=165, score=-0.01624166615597257, total=   0.2s\n",
      "[CV] learning_rate=0.1, gamma=0.77, colsample_bytree=0.31, max_depth=13, n_estimators=165 \n",
      "[CV]  learning_rate=0.1, gamma=0.77, colsample_bytree=0.31, max_depth=13, n_estimators=165, score=-0.018759988722386007, total=   0.2s\n",
      "[CV] learning_rate=0.1, gamma=0.77, colsample_bytree=0.31, max_depth=13, n_estimators=165 \n",
      "[CV]  learning_rate=0.1, gamma=0.77, colsample_bytree=0.31, max_depth=13, n_estimators=165, score=-0.022752813791302614, total=   0.2s\n",
      "[CV] learning_rate=0.7, gamma=0.96, colsample_bytree=0.81, max_depth=5, n_estimators=215 \n",
      "[CV]  learning_rate=0.7, gamma=0.96, colsample_bytree=0.81, max_depth=5, n_estimators=215, score=-0.030992641187922623, total=   0.2s\n",
      "[CV] learning_rate=0.7, gamma=0.96, colsample_bytree=0.81, max_depth=5, n_estimators=215 \n",
      "[CV]  learning_rate=0.7, gamma=0.96, colsample_bytree=0.81, max_depth=5, n_estimators=215, score=-0.024497700432970917, total=   0.2s\n",
      "[CV] learning_rate=0.7, gamma=0.96, colsample_bytree=0.81, max_depth=5, n_estimators=215 \n",
      "[CV]  learning_rate=0.7, gamma=0.96, colsample_bytree=0.81, max_depth=5, n_estimators=215, score=-0.024676988545744176, total=   0.2s\n",
      "[CV] learning_rate=0.7, gamma=0.96, colsample_bytree=0.81, max_depth=5, n_estimators=215 \n",
      "[CV]  learning_rate=0.7, gamma=0.96, colsample_bytree=0.81, max_depth=5, n_estimators=215, score=-0.03045394281762619, total=   0.2s\n",
      "[CV] learning_rate=0.7, gamma=0.96, colsample_bytree=0.81, max_depth=5, n_estimators=215 \n",
      "[CV]  learning_rate=0.7, gamma=0.96, colsample_bytree=0.81, max_depth=5, n_estimators=215, score=-0.04267206266127052, total=   0.2s\n",
      "[CV] learning_rate=0.7, gamma=0.96, colsample_bytree=0.81, max_depth=5, n_estimators=215 \n",
      "[CV]  learning_rate=0.7, gamma=0.96, colsample_bytree=0.81, max_depth=5, n_estimators=215, score=-0.025046764015096718, total=   0.2s\n",
      "[CV] learning_rate=0.7, gamma=0.96, colsample_bytree=0.81, max_depth=5, n_estimators=215 \n",
      "[CV]  learning_rate=0.7, gamma=0.96, colsample_bytree=0.81, max_depth=5, n_estimators=215, score=-0.03843705042699451, total=   0.2s\n",
      "[CV] learning_rate=0.7, gamma=0.96, colsample_bytree=0.81, max_depth=5, n_estimators=215 \n",
      "[CV]  learning_rate=0.7, gamma=0.96, colsample_bytree=0.81, max_depth=5, n_estimators=215, score=-0.026317338830056523, total=   0.2s\n",
      "[CV] learning_rate=0.7, gamma=0.96, colsample_bytree=0.81, max_depth=5, n_estimators=215 \n",
      "[CV]  learning_rate=0.7, gamma=0.96, colsample_bytree=0.81, max_depth=5, n_estimators=215, score=-0.027380689052160526, total=   0.2s\n",
      "[CV] learning_rate=0.7, gamma=0.96, colsample_bytree=0.81, max_depth=5, n_estimators=215 \n",
      "[CV]  learning_rate=0.7, gamma=0.96, colsample_bytree=0.81, max_depth=5, n_estimators=215, score=-0.02922169613401556, total=   0.2s\n",
      "[CV] learning_rate=0.6, gamma=0.29, colsample_bytree=0.41, max_depth=18, n_estimators=115 \n",
      "[CV]  learning_rate=0.6, gamma=0.29, colsample_bytree=0.41, max_depth=18, n_estimators=115, score=-0.02478436016985269, total=   0.3s\n",
      "[CV] learning_rate=0.6, gamma=0.29, colsample_bytree=0.41, max_depth=18, n_estimators=115 \n",
      "[CV]  learning_rate=0.6, gamma=0.29, colsample_bytree=0.41, max_depth=18, n_estimators=115, score=-0.022511916831248494, total=   0.3s\n",
      "[CV] learning_rate=0.6, gamma=0.29, colsample_bytree=0.41, max_depth=18, n_estimators=115 \n",
      "[CV]  learning_rate=0.6, gamma=0.29, colsample_bytree=0.41, max_depth=18, n_estimators=115, score=-0.02310632578156488, total=   0.3s\n",
      "[CV] learning_rate=0.6, gamma=0.29, colsample_bytree=0.41, max_depth=18, n_estimators=115 \n",
      "[CV]  learning_rate=0.6, gamma=0.29, colsample_bytree=0.41, max_depth=18, n_estimators=115, score=-0.029499369715357295, total=   0.3s\n",
      "[CV] learning_rate=0.6, gamma=0.29, colsample_bytree=0.41, max_depth=18, n_estimators=115 \n",
      "[CV]  learning_rate=0.6, gamma=0.29, colsample_bytree=0.41, max_depth=18, n_estimators=115, score=-0.026314528906895472, total=   0.3s\n",
      "[CV] learning_rate=0.6, gamma=0.29, colsample_bytree=0.41, max_depth=18, n_estimators=115 \n",
      "[CV]  learning_rate=0.6, gamma=0.29, colsample_bytree=0.41, max_depth=18, n_estimators=115, score=-0.019308898189646824, total=   0.3s\n",
      "[CV] learning_rate=0.6, gamma=0.29, colsample_bytree=0.41, max_depth=18, n_estimators=115 \n",
      "[CV]  learning_rate=0.6, gamma=0.29, colsample_bytree=0.41, max_depth=18, n_estimators=115, score=-0.023852610425813235, total=   0.3s\n",
      "[CV] learning_rate=0.6, gamma=0.29, colsample_bytree=0.41, max_depth=18, n_estimators=115 \n",
      "[CV]  learning_rate=0.6, gamma=0.29, colsample_bytree=0.41, max_depth=18, n_estimators=115, score=-0.020714220159240827, total=   0.3s\n",
      "[CV] learning_rate=0.6, gamma=0.29, colsample_bytree=0.41, max_depth=18, n_estimators=115 \n",
      "[CV]  learning_rate=0.6, gamma=0.29, colsample_bytree=0.41, max_depth=18, n_estimators=115, score=-0.023580094352434283, total=   0.3s\n",
      "[CV] learning_rate=0.6, gamma=0.29, colsample_bytree=0.41, max_depth=18, n_estimators=115 \n",
      "[CV]  learning_rate=0.6, gamma=0.29, colsample_bytree=0.41, max_depth=18, n_estimators=115, score=-0.025853998505945924, total=   0.3s\n",
      "[CV] learning_rate=0.15, gamma=0.4, colsample_bytree=0.61, max_depth=18, n_estimators=215 \n",
      "[CV]  learning_rate=0.15, gamma=0.4, colsample_bytree=0.61, max_depth=18, n_estimators=215, score=-0.019197130378870185, total=   0.8s\n",
      "[CV] learning_rate=0.15, gamma=0.4, colsample_bytree=0.61, max_depth=18, n_estimators=215 \n"
     ]
    },
    {
     "name": "stdout",
     "output_type": "stream",
     "text": [
      "[CV]  learning_rate=0.15, gamma=0.4, colsample_bytree=0.61, max_depth=18, n_estimators=215, score=-0.015632333353026145, total=   0.8s\n",
      "[CV] learning_rate=0.15, gamma=0.4, colsample_bytree=0.61, max_depth=18, n_estimators=215 \n",
      "[CV]  learning_rate=0.15, gamma=0.4, colsample_bytree=0.61, max_depth=18, n_estimators=215, score=-0.015625981550150676, total=   0.8s\n",
      "[CV] learning_rate=0.15, gamma=0.4, colsample_bytree=0.61, max_depth=18, n_estimators=215 \n",
      "[CV]  learning_rate=0.15, gamma=0.4, colsample_bytree=0.61, max_depth=18, n_estimators=215, score=-0.022050823370308392, total=   0.7s\n",
      "[CV] learning_rate=0.15, gamma=0.4, colsample_bytree=0.61, max_depth=18, n_estimators=215 \n",
      "[CV]  learning_rate=0.15, gamma=0.4, colsample_bytree=0.61, max_depth=18, n_estimators=215, score=-0.025601080731191897, total=   0.8s\n",
      "[CV] learning_rate=0.15, gamma=0.4, colsample_bytree=0.61, max_depth=18, n_estimators=215 \n",
      "[CV]  learning_rate=0.15, gamma=0.4, colsample_bytree=0.61, max_depth=18, n_estimators=215, score=-0.014940982832929208, total=   0.7s\n",
      "[CV] learning_rate=0.15, gamma=0.4, colsample_bytree=0.61, max_depth=18, n_estimators=215 \n",
      "[CV]  learning_rate=0.15, gamma=0.4, colsample_bytree=0.61, max_depth=18, n_estimators=215, score=-0.022035078771155094, total=   0.7s\n",
      "[CV] learning_rate=0.15, gamma=0.4, colsample_bytree=0.61, max_depth=18, n_estimators=215 \n",
      "[CV]  learning_rate=0.15, gamma=0.4, colsample_bytree=0.61, max_depth=18, n_estimators=215, score=-0.015574455045683543, total=   0.8s\n",
      "[CV] learning_rate=0.15, gamma=0.4, colsample_bytree=0.61, max_depth=18, n_estimators=215 \n",
      "[CV]  learning_rate=0.15, gamma=0.4, colsample_bytree=0.61, max_depth=18, n_estimators=215, score=-0.016467054589417503, total=   0.7s\n",
      "[CV] learning_rate=0.15, gamma=0.4, colsample_bytree=0.61, max_depth=18, n_estimators=215 \n",
      "[CV]  learning_rate=0.15, gamma=0.4, colsample_bytree=0.61, max_depth=18, n_estimators=215, score=-0.02211706547160769, total=   0.7s\n",
      "[CV] learning_rate=0.5, gamma=0.23, colsample_bytree=0.41, max_depth=19, n_estimators=165 \n",
      "[CV]  learning_rate=0.5, gamma=0.23, colsample_bytree=0.41, max_depth=19, n_estimators=165, score=-0.025676163030882788, total=   0.4s\n",
      "[CV] learning_rate=0.5, gamma=0.23, colsample_bytree=0.41, max_depth=19, n_estimators=165 \n",
      "[CV]  learning_rate=0.5, gamma=0.23, colsample_bytree=0.41, max_depth=19, n_estimators=165, score=-0.019608984465729833, total=   0.5s\n",
      "[CV] learning_rate=0.5, gamma=0.23, colsample_bytree=0.41, max_depth=19, n_estimators=165 \n",
      "[CV]  learning_rate=0.5, gamma=0.23, colsample_bytree=0.41, max_depth=19, n_estimators=165, score=-0.015903686136501286, total=   0.5s\n",
      "[CV] learning_rate=0.5, gamma=0.23, colsample_bytree=0.41, max_depth=19, n_estimators=165 \n",
      "[CV]  learning_rate=0.5, gamma=0.23, colsample_bytree=0.41, max_depth=19, n_estimators=165, score=-0.023369882808592195, total=   0.5s\n",
      "[CV] learning_rate=0.5, gamma=0.23, colsample_bytree=0.41, max_depth=19, n_estimators=165 \n",
      "[CV]  learning_rate=0.5, gamma=0.23, colsample_bytree=0.41, max_depth=19, n_estimators=165, score=-0.024447136687428293, total=   0.5s\n",
      "[CV] learning_rate=0.5, gamma=0.23, colsample_bytree=0.41, max_depth=19, n_estimators=165 \n",
      "[CV]  learning_rate=0.5, gamma=0.23, colsample_bytree=0.41, max_depth=19, n_estimators=165, score=-0.01649023295511278, total=   0.5s\n",
      "[CV] learning_rate=0.5, gamma=0.23, colsample_bytree=0.41, max_depth=19, n_estimators=165 \n",
      "[CV]  learning_rate=0.5, gamma=0.23, colsample_bytree=0.41, max_depth=19, n_estimators=165, score=-0.02342129712902088, total=   0.5s\n",
      "[CV] learning_rate=0.5, gamma=0.23, colsample_bytree=0.41, max_depth=19, n_estimators=165 \n",
      "[CV]  learning_rate=0.5, gamma=0.23, colsample_bytree=0.41, max_depth=19, n_estimators=165, score=-0.016098413361020088, total=   0.5s\n",
      "[CV] learning_rate=0.5, gamma=0.23, colsample_bytree=0.41, max_depth=19, n_estimators=165 \n",
      "[CV]  learning_rate=0.5, gamma=0.23, colsample_bytree=0.41, max_depth=19, n_estimators=165, score=-0.01692489332333009, total=   0.5s\n",
      "[CV] learning_rate=0.5, gamma=0.23, colsample_bytree=0.41, max_depth=19, n_estimators=165 \n",
      "[CV]  learning_rate=0.5, gamma=0.23, colsample_bytree=0.41, max_depth=19, n_estimators=165, score=-0.02130147430168057, total=   0.5s\n",
      "[CV] learning_rate=0.55, gamma=0.97, colsample_bytree=0.61, max_depth=6, n_estimators=65 \n",
      "[CV]  learning_rate=0.55, gamma=0.97, colsample_bytree=0.61, max_depth=6, n_estimators=65, score=-0.020952830372720905, total=   0.0s\n",
      "[CV] learning_rate=0.55, gamma=0.97, colsample_bytree=0.61, max_depth=6, n_estimators=65 \n",
      "[CV]  learning_rate=0.55, gamma=0.97, colsample_bytree=0.61, max_depth=6, n_estimators=65, score=-0.0279433943668476, total=   0.0s\n",
      "[CV] learning_rate=0.55, gamma=0.97, colsample_bytree=0.61, max_depth=6, n_estimators=65 \n",
      "[CV]  learning_rate=0.55, gamma=0.97, colsample_bytree=0.61, max_depth=6, n_estimators=65, score=-0.03040433100943163, total=   0.0s\n",
      "[CV] learning_rate=0.55, gamma=0.97, colsample_bytree=0.61, max_depth=6, n_estimators=65 \n",
      "[CV]  learning_rate=0.55, gamma=0.97, colsample_bytree=0.61, max_depth=6, n_estimators=65, score=-0.02604939746906711, total=   0.0s\n",
      "[CV] learning_rate=0.55, gamma=0.97, colsample_bytree=0.61, max_depth=6, n_estimators=65 \n",
      "[CV]  learning_rate=0.55, gamma=0.97, colsample_bytree=0.61, max_depth=6, n_estimators=65, score=-0.03814843524151873, total=   0.0s\n",
      "[CV] learning_rate=0.55, gamma=0.97, colsample_bytree=0.61, max_depth=6, n_estimators=65 \n",
      "[CV]  learning_rate=0.55, gamma=0.97, colsample_bytree=0.61, max_depth=6, n_estimators=65, score=-0.01914310056878562, total=   0.0s\n",
      "[CV] learning_rate=0.55, gamma=0.97, colsample_bytree=0.61, max_depth=6, n_estimators=65 \n",
      "[CV]  learning_rate=0.55, gamma=0.97, colsample_bytree=0.61, max_depth=6, n_estimators=65, score=-0.03198747276566707, total=   0.0s\n",
      "[CV] learning_rate=0.55, gamma=0.97, colsample_bytree=0.61, max_depth=6, n_estimators=65 \n",
      "[CV]  learning_rate=0.55, gamma=0.97, colsample_bytree=0.61, max_depth=6, n_estimators=65, score=-0.022464334523781188, total=   0.0s\n",
      "[CV] learning_rate=0.55, gamma=0.97, colsample_bytree=0.61, max_depth=6, n_estimators=65 \n",
      "[CV]  learning_rate=0.55, gamma=0.97, colsample_bytree=0.61, max_depth=6, n_estimators=65, score=-0.02633756918940646, total=   0.0s\n",
      "[CV] learning_rate=0.55, gamma=0.97, colsample_bytree=0.61, max_depth=6, n_estimators=65 \n",
      "[CV]  learning_rate=0.55, gamma=0.97, colsample_bytree=0.61, max_depth=6, n_estimators=65, score=-0.03137573768339507, total=   0.0s\n",
      "[CV] learning_rate=0.0, gamma=0.74, colsample_bytree=0.51, max_depth=10, n_estimators=65 \n",
      "[CV]  learning_rate=0.0, gamma=0.74, colsample_bytree=0.51, max_depth=10, n_estimators=65, score=-132.3653391673584, total=   0.0s\n",
      "[CV] learning_rate=0.0, gamma=0.74, colsample_bytree=0.51, max_depth=10, n_estimators=65 \n",
      "[CV]  learning_rate=0.0, gamma=0.74, colsample_bytree=0.51, max_depth=10, n_estimators=65, score=-134.0298458313593, total=   0.0s\n",
      "[CV] learning_rate=0.0, gamma=0.74, colsample_bytree=0.51, max_depth=10, n_estimators=65 \n",
      "[CV]  learning_rate=0.0, gamma=0.74, colsample_bytree=0.51, max_depth=10, n_estimators=65, score=-133.0637628279186, total=   0.0s\n",
      "[CV] learning_rate=0.0, gamma=0.74, colsample_bytree=0.51, max_depth=10, n_estimators=65 \n",
      "[CV]  learning_rate=0.0, gamma=0.74, colsample_bytree=0.51, max_depth=10, n_estimators=65, score=-132.99578929764553, total=   0.0s\n",
      "[CV] learning_rate=0.0, gamma=0.74, colsample_bytree=0.51, max_depth=10, n_estimators=65 \n",
      "[CV]  learning_rate=0.0, gamma=0.74, colsample_bytree=0.51, max_depth=10, n_estimators=65, score=-133.16095234498496, total=   0.0s\n",
      "[CV] learning_rate=0.0, gamma=0.74, colsample_bytree=0.51, max_depth=10, n_estimators=65 \n",
      "[CV]  learning_rate=0.0, gamma=0.74, colsample_bytree=0.51, max_depth=10, n_estimators=65, score=-133.39421936863354, total=   0.0s\n",
      "[CV] learning_rate=0.0, gamma=0.74, colsample_bytree=0.51, max_depth=10, n_estimators=65 \n",
      "[CV]  learning_rate=0.0, gamma=0.74, colsample_bytree=0.51, max_depth=10, n_estimators=65, score=-132.08745382126727, total=   0.0s\n",
      "[CV] learning_rate=0.0, gamma=0.74, colsample_bytree=0.51, max_depth=10, n_estimators=65 \n",
      "[CV]  learning_rate=0.0, gamma=0.74, colsample_bytree=0.51, max_depth=10, n_estimators=65, score=-132.2626944143858, total=   0.0s\n",
      "[CV] learning_rate=0.0, gamma=0.74, colsample_bytree=0.51, max_depth=10, n_estimators=65 \n",
      "[CV]  learning_rate=0.0, gamma=0.74, colsample_bytree=0.51, max_depth=10, n_estimators=65, score=-133.89038480904122, total=   0.0s\n",
      "[CV] learning_rate=0.0, gamma=0.74, colsample_bytree=0.51, max_depth=10, n_estimators=65 \n",
      "[CV]  learning_rate=0.0, gamma=0.74, colsample_bytree=0.51, max_depth=10, n_estimators=65, score=-132.37776801112324, total=   0.0s\n",
      "[CV] learning_rate=0.05, gamma=0.51, colsample_bytree=0.01, max_depth=7, n_estimators=215 \n",
      "[CV]  learning_rate=0.05, gamma=0.51, colsample_bytree=0.01, max_depth=7, n_estimators=215, score=-0.029091074082278727, total=   0.0s\n",
      "[CV] learning_rate=0.05, gamma=0.51, colsample_bytree=0.01, max_depth=7, n_estimators=215 \n"
     ]
    },
    {
     "name": "stdout",
     "output_type": "stream",
     "text": [
      "[CV]  learning_rate=0.05, gamma=0.51, colsample_bytree=0.01, max_depth=7, n_estimators=215, score=-0.029992085291363494, total=   0.0s\n",
      "[CV] learning_rate=0.05, gamma=0.51, colsample_bytree=0.01, max_depth=7, n_estimators=215 \n",
      "[CV]  learning_rate=0.05, gamma=0.51, colsample_bytree=0.01, max_depth=7, n_estimators=215, score=-0.03342644075427566, total=   0.0s\n",
      "[CV] learning_rate=0.05, gamma=0.51, colsample_bytree=0.01, max_depth=7, n_estimators=215 \n",
      "[CV]  learning_rate=0.05, gamma=0.51, colsample_bytree=0.01, max_depth=7, n_estimators=215, score=-0.042818811487447324, total=   0.0s\n",
      "[CV] learning_rate=0.05, gamma=0.51, colsample_bytree=0.01, max_depth=7, n_estimators=215 \n",
      "[CV]  learning_rate=0.05, gamma=0.51, colsample_bytree=0.01, max_depth=7, n_estimators=215, score=-0.05037075854660899, total=   0.0s\n",
      "[CV] learning_rate=0.05, gamma=0.51, colsample_bytree=0.01, max_depth=7, n_estimators=215 \n",
      "[CV]  learning_rate=0.05, gamma=0.51, colsample_bytree=0.01, max_depth=7, n_estimators=215, score=-0.023509470501394375, total=   0.0s\n",
      "[CV] learning_rate=0.05, gamma=0.51, colsample_bytree=0.01, max_depth=7, n_estimators=215 \n",
      "[CV]  learning_rate=0.05, gamma=0.51, colsample_bytree=0.01, max_depth=7, n_estimators=215, score=-0.03629691987594814, total=   0.0s\n",
      "[CV] learning_rate=0.05, gamma=0.51, colsample_bytree=0.01, max_depth=7, n_estimators=215 \n",
      "[CV]  learning_rate=0.05, gamma=0.51, colsample_bytree=0.01, max_depth=7, n_estimators=215, score=-0.026868878174013667, total=   0.0s\n",
      "[CV] learning_rate=0.05, gamma=0.51, colsample_bytree=0.01, max_depth=7, n_estimators=215 \n",
      "[CV]  learning_rate=0.05, gamma=0.51, colsample_bytree=0.01, max_depth=7, n_estimators=215, score=-0.032141952634640716, total=   0.0s\n",
      "[CV] learning_rate=0.05, gamma=0.51, colsample_bytree=0.01, max_depth=7, n_estimators=215 \n",
      "[CV]  learning_rate=0.05, gamma=0.51, colsample_bytree=0.01, max_depth=7, n_estimators=215, score=-0.03622378047300939, total=   0.0s\n",
      "[CV] learning_rate=0.15, gamma=0.41, colsample_bytree=0.91, max_depth=4, n_estimators=15 \n",
      "[CV]  learning_rate=0.15, gamma=0.41, colsample_bytree=0.91, max_depth=4, n_estimators=15, score=-1.0446113584117485, total=   0.0s\n",
      "[CV] learning_rate=0.15, gamma=0.41, colsample_bytree=0.91, max_depth=4, n_estimators=15 \n",
      "[CV]  learning_rate=0.15, gamma=0.41, colsample_bytree=0.91, max_depth=4, n_estimators=15, score=-1.1156102252502182, total=   0.0s\n",
      "[CV] learning_rate=0.15, gamma=0.41, colsample_bytree=0.91, max_depth=4, n_estimators=15 \n",
      "[CV]  learning_rate=0.15, gamma=0.41, colsample_bytree=0.91, max_depth=4, n_estimators=15, score=-1.0707612788225913, total=   0.0s\n",
      "[CV] learning_rate=0.15, gamma=0.41, colsample_bytree=0.91, max_depth=4, n_estimators=15 \n",
      "[CV]  learning_rate=0.15, gamma=0.41, colsample_bytree=0.91, max_depth=4, n_estimators=15, score=-1.060679510151008, total=   0.0s\n",
      "[CV] learning_rate=0.15, gamma=0.41, colsample_bytree=0.91, max_depth=4, n_estimators=15 \n",
      "[CV]  learning_rate=0.15, gamma=0.41, colsample_bytree=0.91, max_depth=4, n_estimators=15, score=-1.0755890744184058, total=   0.0s\n",
      "[CV] learning_rate=0.15, gamma=0.41, colsample_bytree=0.91, max_depth=4, n_estimators=15 \n",
      "[CV]  learning_rate=0.15, gamma=0.41, colsample_bytree=0.91, max_depth=4, n_estimators=15, score=-1.091304235250589, total=   0.0s\n",
      "[CV] learning_rate=0.15, gamma=0.41, colsample_bytree=0.91, max_depth=4, n_estimators=15 \n",
      "[CV]  learning_rate=0.15, gamma=0.41, colsample_bytree=0.91, max_depth=4, n_estimators=15, score=-1.0184961509010737, total=   0.0s\n",
      "[CV] learning_rate=0.15, gamma=0.41, colsample_bytree=0.91, max_depth=4, n_estimators=15 \n",
      "[CV]  learning_rate=0.15, gamma=0.41, colsample_bytree=0.91, max_depth=4, n_estimators=15, score=-1.0329062399049411, total=   0.0s\n",
      "[CV] learning_rate=0.15, gamma=0.41, colsample_bytree=0.91, max_depth=4, n_estimators=15 \n",
      "[CV]  learning_rate=0.15, gamma=0.41, colsample_bytree=0.91, max_depth=4, n_estimators=15, score=-1.1292062761783763, total=   0.0s\n",
      "[CV] learning_rate=0.15, gamma=0.41, colsample_bytree=0.91, max_depth=4, n_estimators=15 \n",
      "[CV]  learning_rate=0.15, gamma=0.41, colsample_bytree=0.91, max_depth=4, n_estimators=15, score=-1.0338425262581539, total=   0.0s\n",
      "[CV] learning_rate=0.1, gamma=0.84, colsample_bytree=0.71, max_depth=4, n_estimators=165 \n",
      "[CV]  learning_rate=0.1, gamma=0.84, colsample_bytree=0.71, max_depth=4, n_estimators=165, score=-0.02029543289477722, total=   0.1s\n",
      "[CV] learning_rate=0.1, gamma=0.84, colsample_bytree=0.71, max_depth=4, n_estimators=165 \n",
      "[CV]  learning_rate=0.1, gamma=0.84, colsample_bytree=0.71, max_depth=4, n_estimators=165, score=-0.018182565735288942, total=   0.1s\n",
      "[CV] learning_rate=0.1, gamma=0.84, colsample_bytree=0.71, max_depth=4, n_estimators=165 \n",
      "[CV]  learning_rate=0.1, gamma=0.84, colsample_bytree=0.71, max_depth=4, n_estimators=165, score=-0.019869408353394288, total=   0.1s\n",
      "[CV] learning_rate=0.1, gamma=0.84, colsample_bytree=0.71, max_depth=4, n_estimators=165 \n",
      "[CV]  learning_rate=0.1, gamma=0.84, colsample_bytree=0.71, max_depth=4, n_estimators=165, score=-0.026377650095235503, total=   0.1s\n",
      "[CV] learning_rate=0.1, gamma=0.84, colsample_bytree=0.71, max_depth=4, n_estimators=165 \n",
      "[CV]  learning_rate=0.1, gamma=0.84, colsample_bytree=0.71, max_depth=4, n_estimators=165, score=-0.030860378848476956, total=   0.1s\n",
      "[CV] learning_rate=0.1, gamma=0.84, colsample_bytree=0.71, max_depth=4, n_estimators=165 \n",
      "[CV]  learning_rate=0.1, gamma=0.84, colsample_bytree=0.71, max_depth=4, n_estimators=165, score=-0.01786999858080909, total=   0.1s\n",
      "[CV] learning_rate=0.1, gamma=0.84, colsample_bytree=0.71, max_depth=4, n_estimators=165 \n",
      "[CV]  learning_rate=0.1, gamma=0.84, colsample_bytree=0.71, max_depth=4, n_estimators=165, score=-0.023905832940934853, total=   0.1s\n",
      "[CV] learning_rate=0.1, gamma=0.84, colsample_bytree=0.71, max_depth=4, n_estimators=165 \n",
      "[CV]  learning_rate=0.1, gamma=0.84, colsample_bytree=0.71, max_depth=4, n_estimators=165, score=-0.01742548279289323, total=   0.1s\n",
      "[CV] learning_rate=0.1, gamma=0.84, colsample_bytree=0.71, max_depth=4, n_estimators=165 \n",
      "[CV]  learning_rate=0.1, gamma=0.84, colsample_bytree=0.71, max_depth=4, n_estimators=165, score=-0.020553864631143247, total=   0.1s\n",
      "[CV] learning_rate=0.1, gamma=0.84, colsample_bytree=0.71, max_depth=4, n_estimators=165 \n",
      "[CV]  learning_rate=0.1, gamma=0.84, colsample_bytree=0.71, max_depth=4, n_estimators=165, score=-0.024156171679940875, total=   0.1s\n"
     ]
    },
    {
     "name": "stderr",
     "output_type": "stream",
     "text": [
      "[Parallel(n_jobs=1)]: Done 200 out of 200 | elapsed:   58.1s finished\n"
     ]
    },
    {
     "data": {
      "text/plain": [
       "RandomizedSearchCV(cv=10, error_score='raise',\n",
       "          estimator=XGBRegressor(base_score=0.5, booster='gbtree', colsample_bylevel=1,\n",
       "       colsample_bytree=1, gamma=0, learning_rate=0.1, max_delta_step=0,\n",
       "       max_depth=3, min_child_weight=1, missing=None, n_estimators=100,\n",
       "       n_jobs=1, nthread=4, objective='reg:linear', random_state=0,\n",
       "       reg_alpha=0, reg_lambda=1, scale_pos_weight=1, seed=None,\n",
       "       silent=True, subsample=1),\n",
       "          fit_params=None, iid=True, n_iter=20, n_jobs=1,\n",
       "          param_distributions={'learning_rate': array([ 0.  ,  0.05,  0.1 ,  0.15,  0.2 ,  0.25,  0.3 ,  0.35,  0.4 ,\n",
       "        0.45,  0.5 ,  0.55,  0.6 ,  0.65,  0.7 ,  0.75,  0.8 ,  0.85,\n",
       "        0.9 ,  0.95]), 'gamma': array([ 0.01,  0.02, ...,  0.98,  0.99]), 'colsample_bytree': array([ 0.01,  0.11,  0.21, ..., 15, 16, 17, 18,\n",
       "       19, 20, 21, 22, 23, 24]), 'n_estimators': array([ 15,  65, 115, 165, 215])},\n",
       "          pre_dispatch='2*n_jobs', random_state=None, refit=True,\n",
       "          return_train_score='warn', scoring='neg_mean_squared_error',\n",
       "          verbose=20)"
      ]
     },
     "execution_count": 411,
     "metadata": {},
     "output_type": "execute_result"
    }
   ],
   "source": [
    "randomized_reg.fit(train, train_y)"
   ]
  },
  {
   "cell_type": "code",
   "execution_count": 415,
   "metadata": {},
   "outputs": [
    {
     "data": {
      "text/plain": [
       "0.1350952484221388"
      ]
     },
     "execution_count": 415,
     "metadata": {},
     "output_type": "execute_result"
    }
   ],
   "source": [
    "np.sqrt(np.abs(randomized_reg.best_score_))"
   ]
  },
  {
   "cell_type": "code",
   "execution_count": 416,
   "metadata": {},
   "outputs": [
    {
     "data": {
      "text/plain": [
       "{'colsample_bytree': 0.21000000000000002,\n",
       " 'gamma': 0.040000000000000001,\n",
       " 'learning_rate': 0.20000000000000001,\n",
       " 'max_depth': 10,\n",
       " 'n_estimators': 215}"
      ]
     },
     "execution_count": 416,
     "metadata": {},
     "output_type": "execute_result"
    }
   ],
   "source": [
    "randomized_reg.best_params_"
   ]
  },
  {
   "cell_type": "code",
   "execution_count": 417,
   "metadata": {},
   "outputs": [],
   "source": [
    "dmat = xgb.DMatrix(data = train, label = train_y)\n",
    "\n",
    "#params = {\"objective\":\"reg:linear\", \"max_depth\":5}"
   ]
  },
  {
   "cell_type": "code",
   "execution_count": 628,
   "metadata": {},
   "outputs": [],
   "source": [
    "#rmse: 0.116427\n",
    "params = {\"objective\":\"reg:linear\",\n",
    "         \"eta\": 0.03,\n",
    "         \"max_depth\" : 6,\n",
    "         \"colsample_bytree\":0.15,\n",
    "         \"subsample\": 1.0,\n",
    "         \"eval_metric\": \"rmse\",\n",
    "         \"n_estimators\": 200,\n",
    "         \"learning_rate\": 0.03}"
   ]
  },
  {
   "cell_type": "code",
   "execution_count": 630,
   "metadata": {},
   "outputs": [],
   "source": [
    "params = {\"objective\":\"reg:linear\",\n",
    "         \"eta\": 0.01,\n",
    "         \"max_depth\" : 6,\n",
    "         \"colsample_bytree\":0.2,\n",
    "         \"subsample\": 1.0,\n",
    "         \"eval_metric\": \"rmse\",\n",
    "         \"n_estimators\": 200,\n",
    "         \"learning_rate\": 0.05}"
   ]
  },
  {
   "cell_type": "code",
   "execution_count": 421,
   "metadata": {},
   "outputs": [],
   "source": [
    "params = randomized_reg.best_params_\n",
    "#params = {'colsample_bytree': 0.21000000000000002,\n",
    " #'gamma': 0.040000000000000001,\n",
    " #'learning_rate': 0.15000000000000001,\n",
    " #'max_depth': 20,\n",
    " #'n_estimators': 150}"
   ]
  },
  {
   "cell_type": "code",
   "execution_count": 543,
   "metadata": {},
   "outputs": [
    {
     "name": "stdout",
     "output_type": "stream",
     "text": [
      "[0]\ttrain-rmse:11.1857+0.00259436\ttest-rmse:11.1856+0.0241273\n",
      "[50]\ttrain-rmse:2.45959+0.000399696\ttest-rmse:2.4599+0.0183696\n",
      "[100]\ttrain-rmse:0.562533+0.000517862\ttest-rmse:0.567177+0.0119032\n",
      "[150]\ttrain-rmse:0.170124+0.00104568\ttest-rmse:0.187856+0.0142036\n",
      "[200]\ttrain-rmse:0.10586+0.00154232\ttest-rmse:0.134267+0.01591\n",
      "[250]\ttrain-rmse:0.0919935+0.00140797\ttest-rmse:0.125352+0.0154421\n",
      "[300]\ttrain-rmse:0.0845738+0.00134868\ttest-rmse:0.1217+0.0151239\n",
      "[350]\ttrain-rmse:0.0786656+0.0013054\ttest-rmse:0.11961+0.0144578\n",
      "[400]\ttrain-rmse:0.0736782+0.00115894\ttest-rmse:0.118239+0.0140108\n",
      "[450]\ttrain-rmse:0.069412+0.00115428\ttest-rmse:0.117219+0.0135435\n",
      "[500]\ttrain-rmse:0.065785+0.00108863\ttest-rmse:0.116519+0.0134587\n",
      "[550]\ttrain-rmse:0.0624391+0.00111918\ttest-rmse:0.115989+0.0133609\n",
      "[600]\ttrain-rmse:0.0595476+0.00102727\ttest-rmse:0.11567+0.0132749\n",
      "[650]\ttrain-rmse:0.0570257+0.00109202\ttest-rmse:0.115458+0.0133089\n",
      "[700]\ttrain-rmse:0.0546673+0.0011062\ttest-rmse:0.115307+0.0133329\n",
      "[750]\ttrain-rmse:0.0524541+0.00110789\ttest-rmse:0.115145+0.0133798\n",
      "[800]\ttrain-rmse:0.0504983+0.00111\ttest-rmse:0.115061+0.013295\n",
      "[850]\ttrain-rmse:0.0486985+0.00103418\ttest-rmse:0.114961+0.0132743\n",
      "[900]\ttrain-rmse:0.0470094+0.00102271\ttest-rmse:0.114886+0.0133099\n",
      "[950]\ttrain-rmse:0.0454054+0.000943912\ttest-rmse:0.114834+0.013259\n",
      "[1000]\ttrain-rmse:0.0438724+0.000907929\ttest-rmse:0.114722+0.0132715\n",
      "[1050]\ttrain-rmse:0.0424188+0.000850977\ttest-rmse:0.114708+0.0132998\n",
      "[1100]\ttrain-rmse:0.0410822+0.000870278\ttest-rmse:0.11467+0.0133238\n",
      "[1150]\ttrain-rmse:0.0397942+0.000843515\ttest-rmse:0.114642+0.0133138\n",
      "[1200]\ttrain-rmse:0.0385318+0.000828588\ttest-rmse:0.114592+0.0133196\n",
      "[1250]\ttrain-rmse:0.0373392+0.000810734\ttest-rmse:0.114561+0.0133043\n"
     ]
    }
   ],
   "source": [
    "cv_results = xgb.cv(dtrain=dmat, params=params, nfold=10, num_boost_round= 3000, metrics=\"rmse\", as_pandas=True, seed=123, \n",
    "                    early_stopping_rounds = 50, verbose_eval=50)"
   ]
  },
  {
   "cell_type": "code",
   "execution_count": 453,
   "metadata": {},
   "outputs": [],
   "source": [
    "num_train = len(train)\n",
    "num_val = int(num_train * 0.2)\n",
    "\n",
    "x_train_all = train\n",
    "x_train = train[:-num_val]\n",
    "x_val = train[num_train-num_val:]\n",
    "\n",
    "ylog_train = train_y[:-num_val]\n",
    "ylog_val = train_y[num_train-num_val:]"
   ]
  },
  {
   "cell_type": "code",
   "execution_count": 454,
   "metadata": {},
   "outputs": [],
   "source": [
    "df_columns = test.columns"
   ]
  },
  {
   "cell_type": "code",
   "execution_count": 455,
   "metadata": {},
   "outputs": [],
   "source": [
    "dtrin_all = xgb.DMatrix(x_train_all, train_y, feature_names= df_columns)\n",
    "dtrain = xgb.DMatrix(x_train, ylog_train, feature_names= df_columns)\n",
    "dval = xgb.DMatrix(x_val, ylog_val, feature_names= df_columns)\n",
    "dtest = xgb.DMatrix(test, feature_names=df_columns)"
   ]
  },
  {
   "cell_type": "code",
   "execution_count": 631,
   "metadata": {},
   "outputs": [
    {
     "name": "stdout",
     "output_type": "stream",
     "text": [
      "[0]\tval-rmse:10.9643\n",
      "Will train until val-rmse hasn't improved in 50 rounds.\n",
      "[20]\tval-rmse:3.95291\n",
      "[40]\tval-rmse:1.44092\n",
      "[60]\tval-rmse:0.547412\n",
      "[80]\tval-rmse:0.241474\n",
      "[100]\tval-rmse:0.152952\n",
      "[120]\tval-rmse:0.132447\n",
      "[140]\tval-rmse:0.12537\n",
      "[160]\tval-rmse:0.12342\n",
      "[180]\tval-rmse:0.121658\n",
      "[200]\tval-rmse:0.120482\n",
      "[220]\tval-rmse:0.119996\n",
      "[240]\tval-rmse:0.119796\n",
      "[260]\tval-rmse:0.119398\n",
      "[280]\tval-rmse:0.119042\n",
      "[300]\tval-rmse:0.119025\n",
      "[320]\tval-rmse:0.119021\n",
      "[340]\tval-rmse:0.118937\n",
      "[360]\tval-rmse:0.119053\n",
      "[380]\tval-rmse:0.119017\n",
      "Stopping. Best iteration:\n",
      "[340]\tval-rmse:0.118937\n",
      "\n"
     ]
    }
   ],
   "source": [
    "xgb_model = xgb.train(params, dtrain, num_boost_round= 2000, evals=[(dval, 'val')],\n",
    "                      early_stopping_rounds = 50, verbose_eval=20)"
   ]
  },
  {
   "cell_type": "code",
   "execution_count": 582,
   "metadata": {},
   "outputs": [],
   "source": [
    "num_boost_round = xgb_model.best_iteration\n",
    "final_model = xgb.train(dict(params, silent =0), dtrain, num_boost_round=num_boost_round)"
   ]
  },
  {
   "cell_type": "code",
   "execution_count": 583,
   "metadata": {},
   "outputs": [],
   "source": [
    "ylog_pred = final_model.predict(dtest)\n",
    "y_pred = np.exp(ylog_pred) - 1"
   ]
  },
  {
   "cell_type": "code",
   "execution_count": 584,
   "metadata": {},
   "outputs": [
    {
     "data": {
      "text/plain": [
       "array([ 123593.9296875,  150642.78125  ,  186071.921875 , ...,\n",
       "        193955.328125 ,  122106.71875  ,  235454.21875  ], dtype=float32)"
      ]
     },
     "execution_count": 584,
     "metadata": {},
     "output_type": "execute_result"
    }
   ],
   "source": [
    "y_pred"
   ]
  },
  {
   "cell_type": "code",
   "execution_count": 585,
   "metadata": {},
   "outputs": [],
   "source": [
    "df_sub = pd.DataFrame({'id': test_id, \"SalePrice\":y_pred})\n",
    "df_sub.to_csv('final_out.csv', index=False)"
   ]
  }
 ],
 "metadata": {
  "anaconda-cloud": {},
  "kernelspec": {
   "display_name": "Python 3",
   "language": "python",
   "name": "python3"
  },
  "language_info": {
   "codemirror_mode": {
    "name": "ipython",
    "version": 3
   },
   "file_extension": ".py",
   "mimetype": "text/x-python",
   "name": "python",
   "nbconvert_exporter": "python",
   "pygments_lexer": "ipython3",
   "version": "3.5.4"
  }
 },
 "nbformat": 4,
 "nbformat_minor": 2
}
