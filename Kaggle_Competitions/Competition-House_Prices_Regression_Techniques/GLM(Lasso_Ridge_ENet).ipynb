{
 "cells": [
  {
   "cell_type": "code",
   "execution_count": 395,
   "metadata": {},
   "outputs": [],
   "source": [
    "import pandas as pd\n",
    "import numpy as np\n",
    "import matplotlib.pyplot as plt\n",
    "import seaborn as sns\n",
    "%matplotlib inline\n",
    "sns.set()\n",
    "\n",
    "from sklearn.model_selection import KFold, cross_val_score, train_test_split\n",
    "from sklearn.pipeline import make_pipeline\n",
    "from sklearn.preprocessing import RobustScaler\n",
    "from sklearn.linear_model import ElasticNet, Lasso, Ridge\n",
    "from sklearn.kernel_ridge import KernelRidge\n",
    "from sklearn.neighbors import KNeighborsRegressor\n",
    "from sklearn.model_selection import GridSearchCV\n",
    "\n",
    "import warnings\n",
    "def ignore_warn(*args, **kwargs):\n",
    "    pass\n",
    "warnings.warn = ignore_warn #ignore annoying warning (from sklearn and seaborn)\n"
   ]
  },
  {
   "cell_type": "markdown",
   "metadata": {},
   "source": [
    "## Objectives\n",
    "\n",
    "This section, we will focusing on making and tuning three models: Lasso, Ridge, and Elastic Net. We also have some small goals we want to achieve with different models:\n",
    "\n",
    "    1. For the Lasso model, we would like to use it as a feature selection model and see which variables it would throw out for us.\n",
    "    2. For the Ridge model, we would like to apply kernal trick, just like the one we used in the SVM.\n",
    "    3. Our ultimate goal is to apply stacking with these models and observe the performance utilizing the stacking method."
   ]
  },
  {
   "cell_type": "code",
   "execution_count": 270,
   "metadata": {},
   "outputs": [],
   "source": [
    "train = pd.read_csv('data/train_preProcess.csv')\n",
    "test = pd.read_csv('data/test_preProcess.csv')"
   ]
  },
  {
   "cell_type": "code",
   "execution_count": 271,
   "metadata": {},
   "outputs": [],
   "source": [
    "train_y = train.SalePrice\n",
    "train.drop(['SalePrice'], axis=1, inplace=True)\n",
    "\n",
    "train.drop(['Id'], axis=1, inplace=True)\n",
    "\n",
    "test_id = test['Id']\n",
    "test.drop(['Id'], axis=1, inplace=True)\n",
    "\n",
    "#df = pd.concat([train, test], axis= 0)"
   ]
  },
  {
   "cell_type": "markdown",
   "metadata": {},
   "source": [
    "## Lasso"
   ]
  },
  {
   "cell_type": "markdown",
   "metadata": {},
   "source": [
    "We will kick off with our model building with Lasso (L1 regularization)."
   ]
  },
  {
   "cell_type": "code",
   "execution_count": 296,
   "metadata": {},
   "outputs": [],
   "source": [
    "lasso_reg = Lasso(random_state = 123, normalize= True)"
   ]
  },
  {
   "cell_type": "code",
   "execution_count": 297,
   "metadata": {},
   "outputs": [],
   "source": [
    "lasso_grid = {'alpha': np.linspace(0, 1, 50)}"
   ]
  },
  {
   "cell_type": "code",
   "execution_count": 298,
   "metadata": {},
   "outputs": [],
   "source": [
    "lasso_cv = GridSearchCV(estimator= lasso_reg, param_grid= lasso_grid,\n",
    "                                cv=10, scoring=\"neg_mean_squared_error\")"
   ]
  },
  {
   "cell_type": "code",
   "execution_count": 299,
   "metadata": {},
   "outputs": [
    {
     "data": {
      "text/plain": [
       "GridSearchCV(cv=10, error_score='raise',\n",
       "       estimator=Lasso(alpha=1.0, copy_X=True, fit_intercept=True, max_iter=1000,\n",
       "   normalize=True, positive=False, precompute=False, random_state=123,\n",
       "   selection='cyclic', tol=0.0001, warm_start=False),\n",
       "       fit_params=None, iid=True, n_jobs=1,\n",
       "       param_grid={'alpha': array([ 0.     ,  0.02041,  0.04082,  0.06122,  0.08163,  0.10204,\n",
       "        0.12245,  0.14286,  0.16327,  0.18367,  0.20408,  0.22449,\n",
       "        0.2449 ,  0.26531,  0.28571,  0.30612,  0.32653,  0.34694,\n",
       "        0.36735,  0.38776,  0.40816,  0.42857,  0.44898,  0.46939,\n",
       "        0.4...673,\n",
       "        0.85714,  0.87755,  0.89796,  0.91837,  0.93878,  0.95918,\n",
       "        0.97959,  1.     ])},\n",
       "       pre_dispatch='2*n_jobs', refit=True, return_train_score='warn',\n",
       "       scoring='neg_mean_squared_error', verbose=0)"
      ]
     },
     "execution_count": 299,
     "metadata": {},
     "output_type": "execute_result"
    }
   ],
   "source": [
    "lasso_cv.fit(train, train_y)"
   ]
  },
  {
   "cell_type": "code",
   "execution_count": 300,
   "metadata": {},
   "outputs": [
    {
     "data": {
      "text/plain": [
       "0.12492908464018486"
      ]
     },
     "execution_count": 300,
     "metadata": {},
     "output_type": "execute_result"
    }
   ],
   "source": [
    "#best rmse score\n",
    "np.sqrt(np.abs(lasso_cv.best_score_))"
   ]
  },
  {
   "cell_type": "code",
   "execution_count": 301,
   "metadata": {},
   "outputs": [],
   "source": [
    "lasso_best_params = lasso_cv.best_params_"
   ]
  },
  {
   "cell_type": "code",
   "execution_count": 302,
   "metadata": {},
   "outputs": [
    {
     "data": {
      "text/plain": [
       "{'alpha': 0.0}"
      ]
     },
     "execution_count": 302,
     "metadata": {},
     "output_type": "execute_result"
    }
   ],
   "source": [
    "#best params\n",
    "lasso_best_params"
   ]
  },
  {
   "cell_type": "code",
   "execution_count": 311,
   "metadata": {},
   "outputs": [],
   "source": [
    "lasso_reg = Lasso(alpha= 0.0, random_state=123)"
   ]
  },
  {
   "cell_type": "code",
   "execution_count": 12,
   "metadata": {},
   "outputs": [],
   "source": [
    "lasso_coef = lasso_reg.fit(train, train_y).coef_"
   ]
  },
  {
   "cell_type": "code",
   "execution_count": 13,
   "metadata": {},
   "outputs": [],
   "source": [
    "col_names = train.columns"
   ]
  },
  {
   "cell_type": "code",
   "execution_count": 78,
   "metadata": {},
   "outputs": [],
   "source": [
    "lasso_coef_df = pd.DataFrame({'coef': lasso_coef},index=col_names)"
   ]
  },
  {
   "cell_type": "code",
   "execution_count": 83,
   "metadata": {},
   "outputs": [],
   "source": [
    "lasso_coef_df = lasso_coef_df.sort_values(by='coef', ascending=False)"
   ]
  },
  {
   "cell_type": "code",
   "execution_count": 101,
   "metadata": {},
   "outputs": [
    {
     "data": {
      "text/plain": [
       "<matplotlib.axes._subplots.AxesSubplot at 0x1a217eee48>"
      ]
     },
     "execution_count": 101,
     "metadata": {},
     "output_type": "execute_result"
    },
    {
     "data": {
      "image/png": "[encoded data removed]",
      "text/plain": [
       "<matplotlib.figure.Figure at 0x1a21755978>"
      ]
     },
     "metadata": {},
     "output_type": "display_data"
    }
   ],
   "source": [
    "plt.rcParams['figure.figsize'] = (15, 8)\n",
    "sns.set(font_scale=1.5)\n",
    "pd.concat([lasso_coef_df.head(10), lasso_coef_df.tail(10)]).plot(kind = 'bar')"
   ]
  },
  {
   "cell_type": "code",
   "execution_count": 312,
   "metadata": {},
   "outputs": [],
   "source": [
    "lasso_reg.fit(train, train_y)\n",
    "lasso_preds = lasso_reg.predict(test)"
   ]
  },
  {
   "cell_type": "code",
   "execution_count": 314,
   "metadata": {},
   "outputs": [],
   "source": [
    "#make pipeline for later stacking model\n",
    "lasso = make_pipeline(RobustScaler(), Lasso(alpha = 0, random_state=123))"
   ]
  },
  {
   "cell_type": "markdown",
   "metadata": {},
   "source": [
    "## Kernal Ridge and Ridge"
   ]
  },
  {
   "cell_type": "markdown",
   "metadata": {},
   "source": [
    "### Kernal Ridge"
   ]
  },
  {
   "cell_type": "code",
   "execution_count": 103,
   "metadata": {},
   "outputs": [],
   "source": [
    "ridge_kern_reg = KernelRidge(kernel='polynomial')"
   ]
  },
  {
   "cell_type": "code",
   "execution_count": 108,
   "metadata": {},
   "outputs": [],
   "source": [
    "ridge_grid = {\n",
    "    #\"alpha\":np.linspace(0, 1, 50),\n",
    "    \"alpha\":[0.05, 0.1, 0.3, 1, 3, 5, 10, 15, 30, 50, 75],\n",
    "    \"coef0\": np.arange(0, 5, 0.5),\n",
    "    'degree': np.arange(1, 6, 1)\n",
    "    \n",
    "}"
   ]
  },
  {
   "cell_type": "code",
   "execution_count": 109,
   "metadata": {},
   "outputs": [],
   "source": [
    "ridge_kern_cv = GridSearchCV(estimator=ridge_kern_reg, param_grid=ridge_grid,\n",
    "                            cv=10, scoring=\"neg_mean_squared_error\")"
   ]
  },
  {
   "cell_type": "code",
   "execution_count": 110,
   "metadata": {},
   "outputs": [
    {
     "data": {
      "text/plain": [
       "GridSearchCV(cv=10, error_score='raise',\n",
       "       estimator=KernelRidge(alpha=1, coef0=1, degree=3, gamma=None, kernel='polynomial',\n",
       "      kernel_params=None),\n",
       "       fit_params=None, iid=True, n_jobs=1,\n",
       "       param_grid={'degree': array([1, 2, 3, 4, 5]), 'coef0': array([ 0. ,  0.5,  1. ,  1.5,  2. ,  2.5,  3. ,  3.5,  4. ,  4.5]), 'alpha': [0.05, 0.1, 0.3, 1, 3, 5, 10, 15, 30, 50, 75]},\n",
       "       pre_dispatch='2*n_jobs', refit=True, return_train_score='warn',\n",
       "       scoring='neg_mean_squared_error', verbose=0)"
      ]
     },
     "execution_count": 110,
     "metadata": {},
     "output_type": "execute_result"
    }
   ],
   "source": [
    "ridge_kern_cv.fit(train, train_y)"
   ]
  },
  {
   "cell_type": "code",
   "execution_count": 111,
   "metadata": {},
   "outputs": [
    {
     "data": {
      "text/plain": [
       "{'alpha': 0.05, 'coef0': 4.5, 'degree': 1}"
      ]
     },
     "execution_count": 111,
     "metadata": {},
     "output_type": "execute_result"
    }
   ],
   "source": [
    "ridge_kern_cv.best_params_"
   ]
  },
  {
   "cell_type": "code",
   "execution_count": 114,
   "metadata": {
    "scrolled": true
   },
   "outputs": [
    {
     "data": {
      "text/plain": [
       "0.12493788085916019"
      ]
     },
     "execution_count": 114,
     "metadata": {},
     "output_type": "execute_result"
    }
   ],
   "source": [
    "np.sqrt(np.abs(ridge_kern_cv.best_score_))"
   ]
  },
  {
   "cell_type": "code",
   "execution_count": 315,
   "metadata": {},
   "outputs": [],
   "source": [
    "ridge_kern = KernelRidge(alpha= 0.05, kernel = \"polynomial\",\n",
    "                        degree = 1, coef0 = 4.5)"
   ]
  },
  {
   "cell_type": "code",
   "execution_count": 316,
   "metadata": {},
   "outputs": [],
   "source": [
    "ridge_kern.fit(train, train_y)\n",
    "ridge_kern_pred = ridge_kern.predict(test)"
   ]
  },
  {
   "cell_type": "code",
   "execution_count": 320,
   "metadata": {},
   "outputs": [],
   "source": [
    "ridge_kern = make_pipeline(RobustScaler(), KernelRidge(alpha=0.05,degree = 1, coef0 = 4.5))"
   ]
  },
  {
   "cell_type": "markdown",
   "metadata": {},
   "source": [
    "### Ridge"
   ]
  },
  {
   "cell_type": "code",
   "execution_count": 276,
   "metadata": {},
   "outputs": [],
   "source": [
    "ridge_reg = Ridge(random_state=123, normalize=True)"
   ]
  },
  {
   "cell_type": "code",
   "execution_count": 277,
   "metadata": {},
   "outputs": [],
   "source": [
    "ridge_grid = {\n",
    "    'alpha': [0.05, 0.1, 0.3, 1, 3, 5, 10, 15, 30, 50, 75]\n",
    "}"
   ]
  },
  {
   "cell_type": "code",
   "execution_count": 278,
   "metadata": {},
   "outputs": [],
   "source": [
    "ridge_cv = GridSearchCV(estimator= ridge_reg, param_grid= ridge_grid,\n",
    "                        cv=10, scoring=\"neg_mean_squared_error\")"
   ]
  },
  {
   "cell_type": "code",
   "execution_count": 279,
   "metadata": {},
   "outputs": [
    {
     "data": {
      "text/plain": [
       "GridSearchCV(cv=10, error_score='raise',\n",
       "       estimator=Ridge(alpha=1.0, copy_X=True, fit_intercept=True, max_iter=None,\n",
       "   normalize=True, random_state=123, solver='auto', tol=0.001),\n",
       "       fit_params=None, iid=True, n_jobs=1,\n",
       "       param_grid={'alpha': [0.05, 0.1, 0.3, 1, 3, 5, 10, 15, 30, 50, 75]},\n",
       "       pre_dispatch='2*n_jobs', refit=True, return_train_score='warn',\n",
       "       scoring='neg_mean_squared_error', verbose=0)"
      ]
     },
     "execution_count": 279,
     "metadata": {},
     "output_type": "execute_result"
    }
   ],
   "source": [
    "ridge_cv.fit(train, train_y)"
   ]
  },
  {
   "cell_type": "code",
   "execution_count": 280,
   "metadata": {},
   "outputs": [
    {
     "data": {
      "text/plain": [
       "0.12476136849004964"
      ]
     },
     "execution_count": 280,
     "metadata": {},
     "output_type": "execute_result"
    }
   ],
   "source": [
    "np.sqrt(np.abs(ridge_cv.best_score_))"
   ]
  },
  {
   "cell_type": "code",
   "execution_count": 281,
   "metadata": {},
   "outputs": [
    {
     "data": {
      "text/plain": [
       "{'alpha': 0.05}"
      ]
     },
     "execution_count": 281,
     "metadata": {},
     "output_type": "execute_result"
    }
   ],
   "source": [
    "ridge_cv.best_params_"
   ]
  },
  {
   "cell_type": "code",
   "execution_count": 324,
   "metadata": {},
   "outputs": [],
   "source": [
    "ridge_reg = Ridge(alpha= 0.05, random_state=123)\n",
    "ridge_reg.fit(train, train_y)\n",
    "ridge_pred = ridge_reg.predict(test)"
   ]
  },
  {
   "cell_type": "code",
   "execution_count": 282,
   "metadata": {},
   "outputs": [],
   "source": [
    "ridge= make_pipeline(RobustScaler(), Ridge(alpha=0.05, random_state=123))"
   ]
  },
  {
   "cell_type": "markdown",
   "metadata": {},
   "source": [
    "## ENet"
   ]
  },
  {
   "cell_type": "code",
   "execution_count": 283,
   "metadata": {},
   "outputs": [],
   "source": [
    "ENet_reg = ElasticNet(random_state=123)"
   ]
  },
  {
   "cell_type": "code",
   "execution_count": 284,
   "metadata": {},
   "outputs": [],
   "source": [
    "ENet_grid = {\n",
    "    'alpha': np.arange(0, 0.2, 0.001),\n",
    "    'l1_ratio': np.linspace(0, 1, 30)\n",
    "}"
   ]
  },
  {
   "cell_type": "code",
   "execution_count": 285,
   "metadata": {},
   "outputs": [],
   "source": [
    "ENet_cv = GridSearchCV(estimator= ENet_reg, param_grid= ENet_grid,\n",
    "                      cv=10, scoring=\"neg_mean_squared_error\")"
   ]
  },
  {
   "cell_type": "code",
   "execution_count": 286,
   "metadata": {},
   "outputs": [
    {
     "data": {
      "text/plain": [
       "GridSearchCV(cv=10, error_score='raise',\n",
       "       estimator=ElasticNet(alpha=1.0, copy_X=True, fit_intercept=True, l1_ratio=0.5,\n",
       "      max_iter=1000, normalize=False, positive=False, precompute=False,\n",
       "      random_state=123, selection='cyclic', tol=0.0001, warm_start=False),\n",
       "       fit_params=None, iid=True, n_jobs=1,\n",
       "       param_grid={'l1_ratio': array([ 0.     ,  0.03448,  0.06897,  0.10345,  0.13793,  0.17241,\n",
       "        0.2069 ,  0.24138,  0.27586,  0.31034,  0.34483,  0.37931,\n",
       "        0.41379,  0.44828,  0.48276,  0.51724,  0.55172,  0.58621,\n",
       "        0.62069,  0.65517,  0.68966,  0.72414,  0.75862,  0.7931 ,\n",
       "        0.82759,  0.86207,  0.89655,  0.93103,  0.96552,  1.     ]), 'alpha': array([ 0.   ,  0.001, ...,  0.198,  0.199])},\n",
       "       pre_dispatch='2*n_jobs', refit=True, return_train_score='warn',\n",
       "       scoring='neg_mean_squared_error', verbose=0)"
      ]
     },
     "execution_count": 286,
     "metadata": {},
     "output_type": "execute_result"
    }
   ],
   "source": [
    "ENet_cv.fit(train, train_y)"
   ]
  },
  {
   "cell_type": "code",
   "execution_count": 287,
   "metadata": {},
   "outputs": [
    {
     "data": {
      "text/plain": [
       "0.12480675925022992"
      ]
     },
     "execution_count": 287,
     "metadata": {},
     "output_type": "execute_result"
    }
   ],
   "source": [
    "np.sqrt(np.abs(ENet_cv.best_score_))"
   ]
  },
  {
   "cell_type": "code",
   "execution_count": 288,
   "metadata": {},
   "outputs": [],
   "source": [
    "enet_best_params = ENet_cv.best_params_"
   ]
  },
  {
   "cell_type": "code",
   "execution_count": 289,
   "metadata": {},
   "outputs": [
    {
     "data": {
      "text/plain": [
       "{'alpha': 0.001, 'l1_ratio': 0.37931034482758619}"
      ]
     },
     "execution_count": 289,
     "metadata": {},
     "output_type": "execute_result"
    }
   ],
   "source": [
    "enet_best_params"
   ]
  },
  {
   "cell_type": "code",
   "execution_count": 328,
   "metadata": {},
   "outputs": [],
   "source": [
    "ENet_reg = ElasticNet(alpha= 0.001, l1_ratio=0.37931034482758619, \n",
    "                    random_state=123)\n",
    "\n",
    "ENet_reg.fit(train, train_y)\n",
    "ENet_pred = ENet_reg.predict(test)"
   ]
  },
  {
   "cell_type": "code",
   "execution_count": 292,
   "metadata": {},
   "outputs": [],
   "source": [
    "ENet = make_pipeline(RobustScaler(), ElasticNet(alpha= 0.001, l1_ratio=0.37931034482758619, \n",
    "                    random_state=123))"
   ]
  },
  {
   "cell_type": "markdown",
   "metadata": {},
   "source": [
    "## Stacking using all models"
   ]
  },
  {
   "cell_type": "code",
   "execution_count": 338,
   "metadata": {},
   "outputs": [],
   "source": [
    "models = [lasso, ridge, ridge_kern]\n",
    "meta_model = [ENet]"
   ]
  },
  {
   "cell_type": "code",
   "execution_count": 362,
   "metadata": {},
   "outputs": [],
   "source": [
    "#create an empty list in insert predictions from each model \n",
    "out_of_fold_predictions = np.zeros((train.shape[0], len(models)))\n",
    "#we are going to split the training set to 5 folds\n",
    "kfold = KFold(n_splits=5, shuffle=True, random_state=123)\n",
    "\n",
    "#gather all the model parameters into a list so we can iterate over it\n",
    "base_models = [list() for x in models]\n",
    "\n",
    "for i, model in enumerate(models):\n",
    "    #create training set and holdout set with \"kfold\"\n",
    "    for train_index, holdout_index in kfold.split(train.values, train_y.values):\n",
    "        #iterate through models\n",
    "        model = models[i]\n",
    "        base_models[i].append(model)\n",
    "        #fit training set with current model\n",
    "        model.fit(train.values[train_index], train_y.values[train_index])\n",
    "        #predict with holdout set with current model\n",
    "        y_pred = model.predict(train.values[holdout_index])\n",
    "        #add predictions to out_of_fold_predictions\n",
    "        out_of_fold_predictions[holdout_index, i] = y_pred\n",
    "        \n",
    "    #after iterate through all the models, we would fit meta model with out_of_fold preds\n",
    "    meta_model[0].fit(out_of_fold_predictions, train_y.values)"
   ]
  },
  {
   "cell_type": "code",
   "execution_count": 388,
   "metadata": {},
   "outputs": [
    {
     "name": "stdout",
     "output_type": "stream",
     "text": [
      "the 10-fold cv score is:  0.11620250061\n"
     ]
    }
   ],
   "source": [
    "out_of_bag_preds  = np.zeros((train.shape[0], len(models)))\n",
    "\n",
    "#retrain all models with the whole training data\n",
    "for i, model in enumerate(models):\n",
    "    model = models[i]\n",
    "    model.fit(train.values, train_y)\n",
    "    y_pred = model.predict(train.values)\n",
    "    #insert prediction of current model to the list\n",
    "    out_of_bag_preds[:, i] = y_pred\n",
    "\n",
    "#calculate cv scores\n",
    "cv_score = cross_val_score(meta_model[0], out_of_bag_preds, train_y, cv=10, scoring=\"neg_mean_squared_error\")\n",
    "print(\"the 10-fold cv score is: \", np.mean(np.sqrt(np.abs(cv_score))))\n",
    "#predict out_of_bag_preds with meta model\n",
    "final_pred = meta_model[0].predict(out_of_bag_preds)"
   ]
  },
  {
   "cell_type": "markdown",
   "metadata": {},
   "source": [
    "### Adding KNN"
   ]
  },
  {
   "cell_type": "code",
   "execution_count": 455,
   "metadata": {},
   "outputs": [],
   "source": [
    "n_neighbors = np.arange(3, 51, 2)\n",
    "knn_reg = KNeighborsRegressor(weights='distance')"
   ]
  },
  {
   "cell_type": "code",
   "execution_count": 456,
   "metadata": {},
   "outputs": [],
   "source": [
    "knn_grid = {\n",
    "    \"n_neighbors\" : n_neighbors\n",
    "}"
   ]
  },
  {
   "cell_type": "code",
   "execution_count": 457,
   "metadata": {},
   "outputs": [],
   "source": [
    "KNN_cv = GridSearchCV(estimator= knn_reg , param_grid= knn_grid,\n",
    "                      cv=10, scoring=\"neg_mean_squared_error\")"
   ]
  },
  {
   "cell_type": "code",
   "execution_count": 458,
   "metadata": {},
   "outputs": [
    {
     "data": {
      "text/plain": [
       "GridSearchCV(cv=10, error_score='raise',\n",
       "       estimator=KNeighborsRegressor(algorithm='auto', leaf_size=30, metric='minkowski',\n",
       "          metric_params=None, n_jobs=1, n_neighbors=5, p=2,\n",
       "          weights='distance'),\n",
       "       fit_params=None, iid=True, n_jobs=1,\n",
       "       param_grid={'n_neighbors': array([ 3,  5,  7,  9, 11, 13, 15, 17, 19, 21, 23, 25, 27, 29, 31, 33, 35,\n",
       "       37, 39, 41, 43, 45, 47, 49])},\n",
       "       pre_dispatch='2*n_jobs', refit=True, return_train_score='warn',\n",
       "       scoring='neg_mean_squared_error', verbose=0)"
      ]
     },
     "execution_count": 458,
     "metadata": {},
     "output_type": "execute_result"
    }
   ],
   "source": [
    "KNN_cv.fit(train, train_y)"
   ]
  },
  {
   "cell_type": "code",
   "execution_count": 459,
   "metadata": {},
   "outputs": [
    {
     "data": {
      "text/plain": [
       "0.23883489754381468"
      ]
     },
     "execution_count": 459,
     "metadata": {},
     "output_type": "execute_result"
    }
   ],
   "source": [
    "np.sqrt(np.abs(KNN_cv.best_score_))"
   ]
  },
  {
   "cell_type": "code",
   "execution_count": 460,
   "metadata": {},
   "outputs": [
    {
     "data": {
      "text/plain": [
       "{'n_neighbors': 7}"
      ]
     },
     "execution_count": 460,
     "metadata": {},
     "output_type": "execute_result"
    }
   ],
   "source": [
    "KNN_cv.best_params_"
   ]
  },
  {
   "cell_type": "code",
   "execution_count": 506,
   "metadata": {},
   "outputs": [],
   "source": [
    "KNN = make_pipeline(RobustScaler(), KNeighborsRegressor(n_neighbors= 7, weights='distance'))"
   ]
  },
  {
   "cell_type": "code",
   "execution_count": 513,
   "metadata": {},
   "outputs": [],
   "source": [
    "models = [ENet, ridge, ridge_kern, KNN]\n",
    "meta_model = [lasso]"
   ]
  },
  {
   "cell_type": "code",
   "execution_count": 514,
   "metadata": {},
   "outputs": [
    {
     "name": "stdout",
     "output_type": "stream",
     "text": [
      "the 10-fold cv score is:  0.000164121868944\n"
     ]
    }
   ],
   "source": [
    "#create an empty list in insert predictions from each model \n",
    "out_of_fold_predictions = np.zeros((train.shape[0], len(models)))\n",
    "#we are going to split the training set to 5 folds\n",
    "kfold = KFold(n_splits=5, shuffle=True, random_state=123)\n",
    "\n",
    "#gather all the model parameters into a list so we can iterate over it\n",
    "base_models = [list() for x in models]\n",
    "\n",
    "for i, model in enumerate(models):\n",
    "    #create training set and holdout set with \"kfold\"\n",
    "    for train_index, holdout_index in kfold.split(train.values, train_y.values):\n",
    "        #iterate through models\n",
    "        model = models[i]\n",
    "        base_models[i].append(model)\n",
    "        #fit training set with current model\n",
    "        model.fit(train.values[train_index], train_y.values[train_index])\n",
    "        #predict with holdout set with current model\n",
    "        y_pred = model.predict(train.values[holdout_index])\n",
    "        #add predictions to out_of_fold_predictions\n",
    "        out_of_fold_predictions[holdout_index, i] = y_pred\n",
    "        \n",
    "    #after iterate through all the models, we would fit meta model with out_of_fold preds\n",
    "    meta_model[0].fit(out_of_fold_predictions, train_y.values)\n",
    "    \n",
    "\n",
    "out_of_bag_preds  = np.zeros((train.shape[0], len(models)))\n",
    "\n",
    "#retrain all models with the whole training data\n",
    "for i, model in enumerate(models):\n",
    "    model = models[i]\n",
    "    model.fit(train.values, train_y)\n",
    "    y_pred = model.predict(train.values)\n",
    "    #insert prediction of current model to the list\n",
    "    out_of_bag_preds[:, i] = y_pred\n",
    "\n",
    "#calculate cv scores\n",
    "cv_score = cross_val_score(meta_model[0], out_of_bag_preds, train_y, cv=10, scoring=\"neg_mean_squared_error\")\n",
    "print(\"the 10-fold cv score is: \", np.mean(np.sqrt(np.abs(cv_score))))\n",
    "#predict out_of_bag_preds with meta model\n",
    "final_pred = meta_model[0].predict(out_of_bag_preds)"
   ]
  },
  {
   "cell_type": "markdown",
   "metadata": {},
   "source": [
    "### Making Prediction"
   ]
  },
  {
   "cell_type": "code",
   "execution_count": 515,
   "metadata": {},
   "outputs": [],
   "source": [
    "#create an empty list in insert predictions from each model \n",
    "out_of_fold_predictions = np.zeros((train.shape[0], len(models)))\n",
    "#we are going to split the training set to 5 folds\n",
    "kfold = KFold(n_splits=5, shuffle=True, random_state=123)\n",
    "\n",
    "#gather all the model parameters into a list so we can iterate over it\n",
    "base_models = [list() for x in models]\n",
    "\n",
    "for i, model in enumerate(models):\n",
    "    #create training set and holdout set with \"kfold\"\n",
    "    for train_index, holdout_index in kfold.split(train.values, train_y.values):\n",
    "        #iterate through models\n",
    "        model = models[i]\n",
    "        base_models[i].append(model)\n",
    "        #fit training set with current model\n",
    "        model.fit(train.values[train_index], train_y.values[train_index])\n",
    "        #predict with holdout set with current model\n",
    "        y_pred = model.predict(train.values[holdout_index])\n",
    "        #add predictions to out_of_fold_predictions\n",
    "        out_of_fold_predictions[holdout_index, i] = y_pred\n",
    "        \n",
    "    #after iterate through all the models, we would fit meta model with out_of_fold preds\n",
    "    meta_model[0].fit(out_of_fold_predictions, train_y.values)"
   ]
  },
  {
   "cell_type": "code",
   "execution_count": 516,
   "metadata": {},
   "outputs": [],
   "source": [
    "out_of_bag_preds  = np.zeros((test.shape[0], len(models)))\n",
    "\n",
    "#retrain all models with the whole training data\n",
    "for i, model in enumerate(models):\n",
    "    model = models[i]\n",
    "    model.fit(train.values, train_y)\n",
    "    y_pred = model.predict(test.values)\n",
    "    #insert prediction of current model to the list\n",
    "    out_of_bag_preds[:, i] = y_pred\n",
    "\n",
    "#predict out_of_bag_preds with meta model\n",
    "final_pred = meta_model[0].predict(out_of_bag_preds)"
   ]
  },
  {
   "cell_type": "code",
   "execution_count": 517,
   "metadata": {},
   "outputs": [],
   "source": [
    "final_pred = np.exp(final_pred) - 1"
   ]
  },
  {
   "cell_type": "code",
   "execution_count": 518,
   "metadata": {},
   "outputs": [],
   "source": [
    "df_sub = pd.DataFrame({'id': test_id, \"SalePrice\":final_pred})\n",
    "df_sub.to_csv('GLM_stacking_out.csv', index=False)"
   ]
  },
  {
   "cell_type": "markdown",
   "metadata": {},
   "source": [
    "Submitting our prediction to Kaggle, we have have RMSE equals to 0.12955, which is pretty close to XGBoost's score we submitted earlier (0.12432). Let's implement XGBoost into our stacking next."
   ]
  }
 ],
 "metadata": {
  "kernelspec": {
   "display_name": "Python 3",
   "language": "python",
   "name": "python3"
  },
  "language_info": {
   "codemirror_mode": {
    "name": "ipython",
    "version": 3
   },
   "file_extension": ".py",
   "mimetype": "text/x-python",
   "name": "python",
   "nbconvert_exporter": "python",
   "pygments_lexer": "ipython3",
   "version": "3.5.4"
  }
 },
 "nbformat": 4,
 "nbformat_minor": 2
}
