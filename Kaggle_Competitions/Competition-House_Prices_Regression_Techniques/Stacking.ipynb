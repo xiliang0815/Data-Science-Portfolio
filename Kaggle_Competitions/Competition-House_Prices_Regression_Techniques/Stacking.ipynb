{
 "cells": [
  {
   "cell_type": "code",
   "execution_count": 1,
   "metadata": {},
   "outputs": [],
   "source": [
    "import pandas as pd\n",
    "import numpy as np\n",
    "import matplotlib.pyplot as plt\n",
    "import seaborn as sns\n",
    "%matplotlib inline\n",
    "sns.set()\n",
    "\n",
    "\n",
    "#modeling\n",
    "from sklearn.model_selection import KFold, cross_val_score, train_test_split\n",
    "from sklearn.pipeline import make_pipeline\n",
    "from sklearn.preprocessing import RobustScaler\n",
    "from sklearn.linear_model import ElasticNet, Lasso, Ridge\n",
    "from sklearn.kernel_ridge import KernelRidge\n",
    "from sklearn.neighbors import KNeighborsRegressor\n",
    "import xgboost as xgb\n",
    "\n",
    "import warnings\n",
    "def ignore_warn(*args, **kwargs):\n",
    "    pass\n",
    "warnings.warn = ignore_warn #ignore annoying warning (from sklearn and seaborn)"
   ]
  },
  {
   "cell_type": "code",
   "execution_count": 4,
   "metadata": {},
   "outputs": [],
   "source": [
    "train = pd.read_csv('data/train_preProcess.csv')\n",
    "test = pd.read_csv('data/test_preProcess.csv')"
   ]
  },
  {
   "cell_type": "code",
   "execution_count": 5,
   "metadata": {},
   "outputs": [],
   "source": [
    "train_y = train.SalePrice\n",
    "train.drop(['SalePrice'], axis=1, inplace=True)\n",
    "\n",
    "train.drop(['Id'], axis=1, inplace=True)\n",
    "\n",
    "test_id = test['Id']\n",
    "test.drop(['Id'], axis=1, inplace=True)\n",
    "\n",
    "df = pd.concat([train, test], axis= 0)"
   ]
  },
  {
   "cell_type": "code",
   "execution_count": 7,
   "metadata": {},
   "outputs": [],
   "source": [
    "lasso = make_pipeline(RobustScaler(), Lasso(alpha = 0, random_state=123))\n",
    "\n",
    "ridge_kern = make_pipeline(RobustScaler(), KernelRidge(alpha=0.05,degree = 1, coef0 = 4.5))\n",
    "\n",
    "ridge= make_pipeline(RobustScaler(), Ridge(alpha=0.05, random_state=123))\n",
    "\n",
    "ENet = make_pipeline(RobustScaler(), ElasticNet(alpha= 0.001, l1_ratio=0.37931034482758619, \n",
    "                    random_state=123))\n",
    "\n",
    "KNN = make_pipeline(RobustScaler(), KNeighborsRegressor(n_neighbors= 7, weights='distance'))\n",
    "\n",
    "\n",
    "XGB = xgb.XGBRegressor(colsample_bytree= 0.060000000000000005,\n",
    " gamma= 0.017000000000000001,\n",
    " learning_rate= 0.029999999999999999,\n",
    " max_depth= 3, n_estimators= 1315, silent = 1, random_state = 123, nthread = 4)"
   ]
  },
  {
   "cell_type": "code",
   "execution_count": 30,
   "metadata": {},
   "outputs": [],
   "source": [
    "models = [ENet, XGB, ridge_kern, lasso, KNN]\n",
    "meta_model = [ridge]"
   ]
  },
  {
   "cell_type": "code",
   "execution_count": 31,
   "metadata": {},
   "outputs": [
    {
     "name": "stdout",
     "output_type": "stream",
     "text": [
      "the 10-fold cv score is:  0.000130513250686\n"
     ]
    }
   ],
   "source": [
    "#create an empty list in insert predictions from each model \n",
    "out_of_fold_predictions = np.zeros((train.shape[0], len(models)))\n",
    "#we are going to split the training set to 5 folds\n",
    "kfold = KFold(n_splits=5, shuffle=True, random_state=123)\n",
    "\n",
    "#gather all the model parameters into a list so we can iterate over it\n",
    "base_models = [list() for x in models]\n",
    "\n",
    "for i, model in enumerate(models):\n",
    "    #create training set and holdout set with \"kfold\"\n",
    "    for train_index, holdout_index in kfold.split(train.values, train_y.values):\n",
    "        #iterate through models\n",
    "        model = models[i]\n",
    "        base_models[i].append(model)\n",
    "        #fit training set with current model\n",
    "        model.fit(train.values[train_index], train_y.values[train_index])\n",
    "        #predict with holdout set with current model\n",
    "        y_pred = model.predict(train.values[holdout_index])\n",
    "        #add predictions to out_of_fold_predictions\n",
    "        out_of_fold_predictions[holdout_index, i] = y_pred\n",
    "        \n",
    "    #after iterate through all the models, we would fit meta model with out_of_fold preds\n",
    "    meta_model[0].fit(out_of_fold_predictions, train_y.values)\n",
    "    \n",
    "\n",
    "out_of_bag_preds  = np.zeros((train.shape[0], len(models)))\n",
    "\n",
    "#retrain all models with the whole training data\n",
    "for i, model in enumerate(models):\n",
    "    model = models[i]\n",
    "    model.fit(train.values, train_y)\n",
    "    y_pred = model.predict(train.values)\n",
    "    #insert prediction of current model to the list\n",
    "    out_of_bag_preds[:, i] = y_pred\n",
    "\n",
    "#calculate cv scores\n",
    "cv_score = cross_val_score(meta_model[0], out_of_bag_preds, train_y, cv=10, scoring=\"neg_mean_squared_error\")\n",
    "print(\"the 10-fold cv score is: \", np.mean(np.sqrt(np.abs(cv_score))))\n",
    "#predict out_of_bag_preds with meta model\n",
    "final_pred = meta_model[0].predict(out_of_bag_preds)"
   ]
  },
  {
   "cell_type": "code",
   "execution_count": null,
   "metadata": {},
   "outputs": [],
   "source": []
  },
  {
   "cell_type": "code",
   "execution_count": null,
   "metadata": {},
   "outputs": [],
   "source": []
  },
  {
   "cell_type": "code",
   "execution_count": null,
   "metadata": {},
   "outputs": [],
   "source": []
  },
  {
   "cell_type": "code",
   "execution_count": 32,
   "metadata": {},
   "outputs": [],
   "source": [
    "#create an empty list in insert predictions from each model \n",
    "out_of_fold_predictions = np.zeros((train.shape[0], len(models)))\n",
    "#we are going to split the training set to 5 folds\n",
    "kfold = KFold(n_splits=5, shuffle=True, random_state=123)\n",
    "\n",
    "#gather all the model parameters into a list so we can iterate over it\n",
    "base_models = [list() for x in models]\n",
    "\n",
    "for i, model in enumerate(models):\n",
    "    #create training set and holdout set with \"kfold\"\n",
    "    for train_index, holdout_index in kfold.split(train.values, train_y.values):\n",
    "        #iterate through models\n",
    "        model = models[i]\n",
    "        base_models[i].append(model)\n",
    "        #fit training set with current model\n",
    "        model.fit(train.values[train_index], train_y.values[train_index])\n",
    "        #predict with holdout set with current model\n",
    "        y_pred = model.predict(train.values[holdout_index])\n",
    "        #add predictions to out_of_fold_predictions\n",
    "        out_of_fold_predictions[holdout_index, i] = y_pred\n",
    "        \n",
    "    #after iterate through all the models, we would fit meta model with out_of_fold preds\n",
    "    meta_model[0].fit(out_of_fold_predictions, train_y.values)"
   ]
  },
  {
   "cell_type": "code",
   "execution_count": 33,
   "metadata": {},
   "outputs": [],
   "source": [
    "out_of_bag_preds  = np.zeros((test.shape[0], len(models)))\n",
    "\n",
    "#retrain all models with the whole training data\n",
    "for i, model in enumerate(models):\n",
    "    model = models[i]\n",
    "    model.fit(train.values, train_y)\n",
    "    y_pred = model.predict(test.values)\n",
    "    #insert prediction of current model to the list\n",
    "    out_of_bag_preds[:, i] = y_pred\n",
    "\n",
    "#predict out_of_bag_preds with meta model\n",
    "final_pred = meta_model[0].predict(out_of_bag_preds)"
   ]
  },
  {
   "cell_type": "code",
   "execution_count": 34,
   "metadata": {},
   "outputs": [],
   "source": [
    "final_pred = np.exp(final_pred) - 1\n",
    "df_sub = pd.DataFrame({'id': test_id, \"SalePrice\":final_pred})\n",
    "df_sub.to_csv('stacking_out.csv', index=False)"
   ]
  }
 ],
 "metadata": {
  "kernelspec": {
   "display_name": "Python 3",
   "language": "python",
   "name": "python3"
  },
  "language_info": {
   "codemirror_mode": {
    "name": "ipython",
    "version": 3
   },
   "file_extension": ".py",
   "mimetype": "text/x-python",
   "name": "python",
   "nbconvert_exporter": "python",
   "pygments_lexer": "ipython3",
   "version": "3.5.4"
  }
 },
 "nbformat": 4,
 "nbformat_minor": 2
}
